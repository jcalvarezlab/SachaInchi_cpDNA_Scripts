{
 "cells": [
  {
   "cell_type": "markdown",
   "metadata": {},
   "source": [
    "# **Ribosomal RNA Orientation**"
   ]
  },
  {
   "cell_type": "markdown",
   "metadata": {},
   "source": [
    "We recently detected that in our chloroplast the ribosomal RNAs appear on the same side on both IRs. This seems suspicious, but to be sure, we are going to check other chloroplasts of model organisms to see if this phenomenon presents elsewhere.\n",
    "\n",
    "To inspect the orientation of the features more easily, we use [OGDRAW](https://chlorobox.mpimp-golm.mpg.de/OGDraw.html) to generate figures that show the orientation of the annotations of each chloroplast. Fortunately, OGDRAW can directly load accessions from the NCBI RefSeq database."
   ]
  },
  {
   "cell_type": "markdown",
   "metadata": {},
   "source": [
    "Here is how our Chloroplast looks:"
   ]
  },
  {
   "cell_type": "markdown",
   "metadata": {},
   "source": [
    "<img src=\"Chloroplasts_images/sacha_most_recent_cp.jpg\">"
   ]
  },
  {
   "cell_type": "markdown",
   "metadata": {},
   "source": [
    "Specifically, we suspect of **rrn23, rrn16, rrn4.5, rrn5, trnI-GAU**"
   ]
  },
  {
   "cell_type": "markdown",
   "metadata": {},
   "source": [
    "Let us see some other chloroplasts and count in how many do we find this phenomenon."
   ]
  },
  {
   "cell_type": "markdown",
   "metadata": {},
   "source": [
    "### **Arabidopsis thaliana**"
   ]
  },
  {
   "cell_type": "markdown",
   "metadata": {},
   "source": [
    "<img src=\"Chloroplasts_images/arabidopsis.jpg\">"
   ]
  },
  {
   "cell_type": "markdown",
   "metadata": {},
   "source": [
    "In arabidopsis we do find a perfect simmetry in the IRs."
   ]
  },
  {
   "cell_type": "markdown",
   "metadata": {},
   "source": [
    "### **Glycine max**"
   ]
  },
  {
   "cell_type": "markdown",
   "metadata": {},
   "source": [
    "<img src=\"Chloroplasts_images/glycine_max.jpg\">"
   ]
  },
  {
   "cell_type": "markdown",
   "metadata": {},
   "source": [
    "In _Glycine max_ we do find a perfect simmetry in the IRs."
   ]
  },
  {
   "cell_type": "markdown",
   "metadata": {},
   "source": [
    "### **Nicotiana tabacum**"
   ]
  },
  {
   "cell_type": "markdown",
   "metadata": {},
   "source": [
    "<img src=\"Chloroplasts_images/nicotiana.jpg\">"
   ]
  },
  {
   "cell_type": "markdown",
   "metadata": {},
   "source": [
    "In _Nicotiana tabacum_ we observed a perfect simmetry"
   ]
  },
  {
   "cell_type": "markdown",
   "metadata": {},
   "source": [
    "### **Manihot esculenta**"
   ]
  },
  {
   "cell_type": "markdown",
   "metadata": {},
   "source": [
    "<img src=\"Chloroplasts_images/manihot.jpg\">"
   ]
  },
  {
   "cell_type": "markdown",
   "metadata": {},
   "source": [
    "Even though the rrn23 is missing in one of the IRs, we do observe Simmetry with the other features in _Manihot esculenta_"
   ]
  },
  {
   "cell_type": "markdown",
   "metadata": {},
   "source": [
    "### **Jatropha curcas**"
   ]
  },
  {
   "cell_type": "markdown",
   "metadata": {},
   "source": [
    "<img src=\"Chloroplasts_images/jatropha.jpg\">"
   ]
  },
  {
   "cell_type": "markdown",
   "metadata": {},
   "source": [
    "We observe simmetry in _Jatropha curcas_"
   ]
  },
  {
   "cell_type": "markdown",
   "metadata": {},
   "source": [
    "### **Ricinus communis**"
   ]
  },
  {
   "cell_type": "markdown",
   "metadata": {},
   "source": [
    "<img src=\"Chloroplasts_images/ricinus.jpg\">"
   ]
  },
  {
   "cell_type": "markdown",
   "metadata": {},
   "source": [
    "We find that _Ricinus communis_ chloroplast present the same phenomena that we found"
   ]
  },
  {
   "cell_type": "markdown",
   "metadata": {},
   "source": [
    "## **Summary**"
   ]
  },
  {
   "cell_type": "markdown",
   "metadata": {},
   "source": [
    "| Species | Prefect Simmetry on IRs |\n",
    "| ------- | ----------------------- |\n",
    "| _A. thalinana_ | Yes |\n",
    "| _G. max_ | Yes |\n",
    "| _N. tabacum_ | Yes |\n",
    "| _M. esculenta_ | Yes* |\n",
    "| _J. curcas_ | Yes |\n",
    "| _R. communis_ | No | \n",
    "\n",
    "\n",
    "*Missing __rrn23__"
   ]
  },
  {
   "cell_type": "markdown",
   "metadata": {},
   "source": [
    "This still can make evolutionary sense, since we could limit this phenomenon to the _acalyphoideae_ subfamily within the _Euphorbiaceae_."
   ]
  },
  {
   "cell_type": "markdown",
   "metadata": {},
   "source": [
    "Unfortunately, this is not discussed by [Rivarola _et. al._, 2011](https://journals.plos.org/plosone/article?id=10.1371/journal.pone.0021743), who reports the _Ricinus communis_ chloroplast. Nevertheless, Figure 1 seems to show that IRs present perfect symmetry (as we found with the other chloroplasts), contrary to what we found with OGDRAW."
   ]
  },
  {
   "cell_type": "markdown",
   "metadata": {},
   "source": [
    "So what is the truth? Well, in this case, it is better to go to the source, so let us see the Genbank archive in the NCBI."
   ]
  },
  {
   "cell_type": "markdown",
   "metadata": {},
   "source": [
    "First, we download the Ricinus communis chloroplast genome from RefSeq ([NC_016736.1](https://www.ncbi.nlm.nih.gov/nuccore/NC_016736.1)), which is the sequence that we used to produce the figure shown above. "
   ]
  },
  {
   "cell_type": "code",
   "execution_count": 4,
   "metadata": {},
   "outputs": [],
   "source": [
    "from Bio import Entrez,SeqIO"
   ]
  },
  {
   "cell_type": "code",
   "execution_count": 3,
   "metadata": {},
   "outputs": [],
   "source": [
    "Entrez.email = \"svillanu@eafit.edu.co\""
   ]
  },
  {
   "cell_type": "code",
   "execution_count": 5,
   "metadata": {},
   "outputs": [],
   "source": [
    "handle = Entrez.efetch(db=\"nucleotide\", id=\"NC_016736.1\", retmode=\"text\", rettype=\"gb\")\n",
    "ricinus = SeqIO.read(handle, \"gb\")"
   ]
  },
  {
   "cell_type": "markdown",
   "metadata": {},
   "source": [
    "Now that we loaded the sequence, let us see the rRNAs"
   ]
  },
  {
   "cell_type": "code",
   "execution_count": 6,
   "metadata": {},
   "outputs": [
    {
     "name": "stdout",
     "output_type": "stream",
     "text": [
      "189 rrn16 [107228:108719](+)\n",
      "195 rrn23 [111123:113933](+)\n",
      "198 rrn4.5 [114031:114134](+)\n",
      "201 rrn5 [114358:114479](+)\n",
      "240 rrn5 [138333:138454](+)\n",
      "243 rrn4.5 [138678:138781](+)\n",
      "245 rrn23 [138879:141689](+)\n",
      "252 rrn16 [144093:145584](+)\n"
     ]
    }
   ],
   "source": [
    "for i,ft in enumerate(ricinus.features):\n",
    "    if ft.type == \"rRNA\":\n",
    "        print(i, ft.qualifiers[\"gene\"][0], ft.location)"
   ]
  },
  {
   "cell_type": "markdown",
   "metadata": {},
   "source": [
    "As can be seen above, all rRNAs are in the same strand, which explains why OGDRAW makes the figure the way it does. However, this is not consistent with Rivarola _et. al._. In theory, one of the two copies of each rRNA should be on the opposite strand of the other copy."
   ]
  },
  {
   "cell_type": "markdown",
   "metadata": {},
   "source": [
    "So the annotation is inconsistent, but is **the sequence** inconsistent? Is the annotation correct in describing a sequence that has both copies of the ribosomal genes in the same strand? Or is the annotation incorrect in describing the correct orientation of the rRNAs (as reported by Rivarola _et. al._)?"
   ]
  },
  {
   "cell_type": "markdown",
   "metadata": {},
   "source": [
    "To test this, we are going to extract the sequence associated with the ribosomal features and compare them. If the former hypothesis is true, the extracted sequences should be the same. If the latter is true, one extracted sequence should be the reverse complement from the other. "
   ]
  },
  {
   "cell_type": "markdown",
   "metadata": {},
   "source": [
    "Testing with rrn23"
   ]
  },
  {
   "cell_type": "code",
   "execution_count": 9,
   "metadata": {},
   "outputs": [
    {
     "data": {
      "text/plain": [
       "Seq('TTCAAACGAGGAAAGGCTTACGGTGGATACCTAGGCACCCAGAGACGAGGAAGG...CCT', IUPACAmbiguousDNA())"
      ]
     },
     "execution_count": 9,
     "metadata": {},
     "output_type": "execute_result"
    }
   ],
   "source": [
    "ricinus.features[195].extract(ricinus).seq"
   ]
  },
  {
   "cell_type": "code",
   "execution_count": 12,
   "metadata": {},
   "outputs": [
    {
     "data": {
      "text/plain": [
       "Seq('TTCAAACGAGGAAAGGCTTACGGTGGATACCTAGGCACCCAGAGACGAGGAAGG...CCT', IUPACAmbiguousDNA())"
      ]
     },
     "execution_count": 12,
     "metadata": {},
     "output_type": "execute_result"
    }
   ],
   "source": [
    "ricinus.features[245].extract(ricinus).seq.reverse_complement()"
   ]
  },
  {
   "cell_type": "code",
   "execution_count": 13,
   "metadata": {},
   "outputs": [
    {
     "data": {
      "text/plain": [
       "True"
      ]
     },
     "execution_count": 13,
     "metadata": {},
     "output_type": "execute_result"
    }
   ],
   "source": [
    "ricinus.features[195].extract(ricinus).seq == ricinus.features[245].extract(ricinus).seq.reverse_complement()"
   ]
  },
  {
   "cell_type": "markdown",
   "metadata": {},
   "source": [
    "Indeed, we found that the extracted sequences are reverse complement of each other, which means that the rRNAs of the IRA are incorrectly annotated because they point to the incorrect strand (it should be `-` instead of `+`)."
   ]
  },
  {
   "cell_type": "markdown",
   "metadata": {},
   "source": [
    "Just to confirm, let us check with the other rRNAs:"
   ]
  },
  {
   "cell_type": "code",
   "execution_count": 14,
   "metadata": {},
   "outputs": [
    {
     "data": {
      "text/plain": [
       "True"
      ]
     },
     "execution_count": 14,
     "metadata": {},
     "output_type": "execute_result"
    }
   ],
   "source": [
    "ricinus.features[189].extract(ricinus).seq == ricinus.features[252].extract(ricinus).seq.reverse_complement()"
   ]
  },
  {
   "cell_type": "code",
   "execution_count": 15,
   "metadata": {},
   "outputs": [
    {
     "data": {
      "text/plain": [
       "True"
      ]
     },
     "execution_count": 15,
     "metadata": {},
     "output_type": "execute_result"
    }
   ],
   "source": [
    "ricinus.features[198].extract(ricinus).seq == ricinus.features[243].extract(ricinus).seq.reverse_complement()"
   ]
  },
  {
   "cell_type": "code",
   "execution_count": 16,
   "metadata": {},
   "outputs": [
    {
     "data": {
      "text/plain": [
       "True"
      ]
     },
     "execution_count": 16,
     "metadata": {},
     "output_type": "execute_result"
    }
   ],
   "source": [
    "ricinus.features[201].extract(ricinus).seq == ricinus.features[240].extract(ricinus).seq.reverse_complement()"
   ]
  },
  {
   "cell_type": "markdown",
   "metadata": {},
   "source": [
    "## __Conclusion__"
   ]
  },
  {
   "cell_type": "markdown",
   "metadata": {},
   "source": [
    "The _Ricinus communis_ chloroplast genome presents incorrect annotations for the second copy of the rRNAs genes. As we used this reference to annotate our new _Plukenetia volubilis_ chloroplast, our annotation propagated this error, which is an instance of a larger issue previously discussed in the genomics field (_e.g._ [Schnoes A. _et. al._](https://journals.plos.org/ploscompbiol/article?id=10.1371/journal.pcbi.1000605)). For our purpose, this annotation problem should disappear if we stop using `NC_016736.1` as a reference for the annotation process."
   ]
  }
 ],
 "metadata": {
  "kernelspec": {
   "display_name": "Sci",
   "language": "python",
   "name": "sci"
  },
  "language_info": {
   "codemirror_mode": {
    "name": "ipython",
    "version": 3
   },
   "file_extension": ".py",
   "mimetype": "text/x-python",
   "name": "python",
   "nbconvert_exporter": "python",
   "pygments_lexer": "ipython3",
   "version": "3.9.0"
  }
 },
 "nbformat": 4,
 "nbformat_minor": 4
}
