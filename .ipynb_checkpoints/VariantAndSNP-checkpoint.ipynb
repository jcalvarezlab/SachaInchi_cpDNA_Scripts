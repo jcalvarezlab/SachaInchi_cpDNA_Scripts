{
 "cells": [
  {
   "cell_type": "markdown",
   "metadata": {},
   "source": [
    "## Variant and SNPs analysis\n",
    "## Javier C. Alvarez, EAFIT University, 2020"
   ]
  },
  {
   "cell_type": "code",
   "execution_count": 3,
   "metadata": {},
   "outputs": [],
   "source": [
    "from Bio import SeqIO"
   ]
  },
  {
   "cell_type": "code",
   "execution_count": 4,
   "metadata": {},
   "outputs": [
    {
     "name": "stdout",
     "output_type": "stream",
     "text": [
      "Dealing with GenBank record Plukenetia\n"
     ]
    }
   ],
   "source": [
    "##Converting files to fasta\n",
    "gbk_filename = \"Data/Sacha_GenBank.gb\"\n",
    "faa_filename = \"Data/Sacha_cpDNA.fna\"\n",
    "input_handle  = open(gbk_filename, \"r\")\n",
    "output_handle = open(faa_filename, \"w\")\n",
    "\n",
    "for seq_record in SeqIO.parse(input_handle, \"genbank\") :\n",
    "    print (\"Dealing with GenBank record %s\" % seq_record.id)\n",
    "    output_handle.write(\">%s %s\\n%s\\n\" % (\n",
    "           seq_record.id,\n",
    "           seq_record.description,\n",
    "           seq_record.seq))\n",
    "\n",
    "output_handle.close()\n",
    "input_handle.close()"
   ]
  },
  {
   "cell_type": "code",
   "execution_count": 10,
   "metadata": {},
   "outputs": [
    {
     "name": "stdout",
     "output_type": "stream",
     "text": [
      "Usage: mummer [options] <reference-file> <query-files>\n",
      "\n",
      "Find and output (to stdout) the positions and length of all\n",
      "sufficiently long maximal matches of a substring in\n",
      "<query-file> and <reference-file>\n",
      "\n",
      "Options:\n",
      "-mum           compute maximal matches that are unique in both sequences\n",
      "-mumcand       same as -mumreference\n",
      "-mumreference  compute maximal matches that are unique in the reference-\n",
      "               sequence but not necessarily in the query-sequence (default)\n",
      "-maxmatch      compute all maximal matches regardless of their uniqueness\n",
      "-n             match only the characters a, c, g, or t\n",
      "               they can be in upper or in lower case\n",
      "-l             set the minimum length of a match\n",
      "               if not set, the default value is 20\n",
      "-b             compute forward and reverse complement matches\n",
      "-r             only compute reverse complement matches\n",
      "-s             show the matching substrings\n",
      "-c             report the query-position of a reverse complement match\n",
      "               relative to the original query sequence\n",
      "-F             force 4 column output format regardless of the number of\n",
      "               reference sequence inputs\n",
      "-L             show the length of the query sequences on the header line\n",
      "-h             show possible options\n",
      "-help          show possible options\n"
     ]
    }
   ],
   "source": [
    "%%bash\n",
    "mummer -h"
   ]
  },
  {
   "cell_type": "code",
   "execution_count": 18,
   "metadata": {},
   "outputs": [
    {
     "name": "stderr",
     "output_type": "stream",
     "text": [
      "1: PREPARING DATA\n",
      "2,3: RUNNING mummer AND CREATING CLUSTERS\n",
      "# reading input file \"SI_aligh.ntref\" of length 164112\n",
      "# construct suffix tree for sequence of length 164112\n",
      "# (maximum reference length is 536870908)\n",
      "# (maximum query length is 4294967295)\n",
      "# process 1641 characters per dot\n",
      "#....................................................................................................\n",
      "# CONSTRUCTIONTIME /anaconda3/opt/mummer-3.23/mummer SI_aligh.ntref 0.03\n",
      "# reading input file \"/Users/javiercorreaalvarez/Downloads/NotebooksTrabajosFinales/Sacha_analysis/China_PlukenetiacpDNA.fasta\" of length 161733\n",
      "# matching query-file \"/Users/javiercorreaalvarez/Downloads/NotebooksTrabajosFinales/Sacha_analysis/China_PlukenetiacpDNA.fasta\"\n",
      "# against subject-file \"SI_aligh.ntref\"\n",
      "# COMPLETETIME /anaconda3/opt/mummer-3.23/mummer SI_aligh.ntref 0.07\n",
      "# SPACE /anaconda3/opt/mummer-3.23/mummer SI_aligh.ntref 0.32\n",
      "4: FINISHING DATA\n"
     ]
    }
   ],
   "source": [
    "%%bash\n",
    "nucmer -p SI_aligh Sacha_cpDNA.fna China_PlukenetiacpDNA.fasta"
   ]
  },
  {
   "cell_type": "code",
   "execution_count": 19,
   "metadata": {},
   "outputs": [],
   "source": [
    "%%bash\n",
    "delta-filter -1 -q SI_aligh.delta > SI_aligh.filtred.delta"
   ]
  },
  {
   "cell_type": "code",
   "execution_count": 22,
   "metadata": {},
   "outputs": [
    {
     "name": "stderr",
     "output_type": "stream",
     "text": [
      "Filtering alignments\n",
      "Extracting alignment coordinates\n",
      "Analyzing SNPs\n",
      "Extracting alignment breakpoints\n",
      "Generating report file\n"
     ]
    }
   ],
   "source": [
    "%%bash\n",
    "dnadiff -p dnadiff -d SI_aligh.filtred.delta"
   ]
  },
  {
   "cell_type": "code",
   "execution_count": 35,
   "metadata": {},
   "outputs": [
    {
     "name": "stdout",
     "output_type": "stream",
     "text": [
      "gnuplot 5.2 patchlevel 8\n"
     ]
    },
    {
     "name": "stderr",
     "output_type": "stream",
     "text": [
      "Reading delta file SI_aligh.filtred.delta\n",
      "Writing plot files out.fplot, out.rplot\n",
      "Writing gnuplot script out.gp\n",
      "Forking mouse listener\n",
      "Rendering plot to screen\n",
      "WARNING: Unable to query clipboard with xclip\n",
      "unrecognized option -geometry\n",
      "line 0: Cannot open script file '500x500+0+0'\n",
      "\n",
      "WARNING: Unable to run 'gnuplot -geometry 500x500+0+0 -title mummerplot out.gp', Inappropriate ioctl for device\n"
     ]
    }
   ],
   "source": [
    "%%bash\n",
    "mummerplot SI_aligh.filtred.delta"
   ]
  },
  {
   "cell_type": "code",
   "execution_count": 24,
   "metadata": {},
   "outputs": [
    {
     "name": "stdout",
     "output_type": "stream",
     "text": [
      "/Users/javiercorreaalvarez/Downloads/NotebooksTrabajosFinales/Sacha_analysis/Sacha_cpDNA.fna /Users/javiercorreaalvarez/Downloads/NotebooksTrabajosFinales/Sacha_analysis/China_PlukenetiacpDNA.fasta\n",
      "NUCMER\n",
      "\n",
      "[SEQ]\t[TYPE]\t[S1]\t[E1]\t[LEN 1]\n",
      "Plukenetia\tBRK\t1\t52\t52\n",
      "Plukenetia\tGAP\t6336\t6514\t179\t84\t95\n",
      "Plukenetia\tINV\t8496\t8466\t-29\n",
      "Plukenetia\tGAP\t23198\t23671\t474\t274\t200\n",
      "Plukenetia\tGAP\t41232\t41518\t287\t30\t257\n",
      "Plukenetia\tGAP\t47904\t48550\t647\t0\t647\n",
      "Plukenetia\tINV\t48798\t48768\t-29\n",
      "Plukenetia\tGAP\t62239\t62165\t-73\t13\t-86\n",
      "Plukenetia\tGAP\t69477\t69429\t-47\t-2\t-45\n",
      "Plukenetia\tGAP\t70035\t69914\t-120\t2\t-122\n",
      "Plukenetia\tGAP\t71561\t71666\t106\t-1\t107\n",
      "Plukenetia\tGAP\t87551\t87749\t199\t59\t140\n",
      "Plukenetia\tINV\t117620\t90261\t-27358\n",
      "Plukenetia\tGAP\t120655\t120984\t330\t-6\t336\n",
      "Plukenetia\tGAP\t127761\t127711\t-49\t4\t-53\n",
      "Plukenetia\tGAP\t131833\t131747\t-85\t-2\t-83\n",
      "Plukenetia\tGAP\t133208\t133016\t-191\t16\t-207\n",
      "Plukenetia\tBRK\t135867\t164111\t28245\n"
     ]
    }
   ],
   "source": [
    "%%bash\n",
    "show-diff SI_aligh.filtred.delta"
   ]
  },
  {
   "cell_type": "markdown",
   "metadata": {},
   "source": [
    "Feature Types  [GAP] A gap between two mutually consistent ordered and oriented alignments. gap-length-R is the length of the alignment gap in the reference, gap-length-Q is the length of the alignment gap in the query, and gap-diff is the difference between the two gap lengths. If gap-diff is positive, sequence has been inserted in the reference. If gap-diff is negative, sequence has been deleted from the reference. If both gap-length-R and gap-length-Q are negative, the indel is tandem duplication copy difference.  [DUP] A duplicated sequence in the reference that occurs more times in the reference than in the query. The coordinate columns specify the bounds and length of the duplication. These features are often bookended by BRK features if there is unique sequence bounding the duplication.  [BRK] An insertion in the reference of unknown origin, that indicates no query sequence aligns to the sequence bounded by gap-start and gap-end. Often found around DUP elements or at the beginning or end of sequences.  [JMP] A relocation event, where the consistent ordering of alignments is disrupted. The coordinate columns specify the breakpoints of the relocation in the reference, and the gap-length between them. A negative gap-length indicates the relocation occurred around a repetitive sequence, and a positive length indicates unique sequence between the alignments.  [INV] The same as a relocation event, however both the ordering and orientation of the alignments is disrupted. Note that for JMP and INV, generally two features will be output, one for the beginning of the inverted region, and another for the end of the inverted region.  [SEQ] A translocation event that requires jumping to a new query sequence in order to continue aligning to the reference. If each input sequence is a chromosome, these features correspond to inter-chromosomal translocations."
   ]
  },
  {
   "cell_type": "code",
   "execution_count": 38,
   "metadata": {
    "scrolled": false
   },
   "outputs": [
    {
     "name": "stdout",
     "output_type": "stream",
     "text": [
      "/Users/javiercorreaalvarez/Downloads/NotebooksTrabajosFinales/Sacha_analysis/Sacha_cpDNA.fna /Users/javiercorreaalvarez/Downloads/NotebooksTrabajosFinales/Sacha_analysis/China_PlukenetiacpDNA.fasta\n",
      "NUCMER\n",
      "\n",
      "    [P1]  [SUB]  [P2]      |   [BUFF]   [DIST]  | [FRM]  [TAGS]\n",
      "===================================================================\n",
      "    1224   . T   1323      |        0     1224  |  1  1  Plukenetia\tMF062253.1\n",
      "    1224   . A   1324      |        0     1224  |  1  1  Plukenetia\tMF062253.1\n",
      "    1224   . G   1325      |        0     1224  |  1  1  Plukenetia\tMF062253.1\n",
      "    1224   . A   1326      |        0     1224  |  1  1  Plukenetia\tMF062253.1\n",
      "    1224   . A   1327      |        0     1224  |  1  1  Plukenetia\tMF062253.1\n",
      "    1224   . A   1328      |        0     1224  |  1  1  Plukenetia\tMF062253.1\n",
      "    1224   . A   1329      |        0     1224  |  1  1  Plukenetia\tMF062253.1\n",
      "    1224   . A   1330      |        0     1224  |  1  1  Plukenetia\tMF062253.1\n",
      "    1224   . A   1331      |        0     1224  |  1  1  Plukenetia\tMF062253.1\n",
      "    1224   . A   1332      |        0     1224  |  1  1  Plukenetia\tMF062253.1\n"
     ]
    }
   ],
   "source": [
    "%%bash\n",
    "show-snps -C SI_aligh.filtred.delta | head -15"
   ]
  },
  {
   "cell_type": "markdown",
   "metadata": {},
   "source": [
    "[P1] SNP position in the reference.  [SUB] Character in the reference.  [SUB] Character in the query.  [P2] SNP position in the query.  [BUFF] Distance from this SNP to the nearest mismatch (end of alignment, indel, SNP, etc) in the same alignment.  [DIST] Distance from this SNP to the nearest sequence end.  [R] Number of repeat alignments which cover this reference position, >0 means repetitive sequence.  [Q] Number of repeat alignments which cover this query position, >0 means repetitive sequence.  [LEN R] Length of the reference sequence.  [LEN Q] Length of the query sequence.  [CTX R] Surrounding context sequence in the reference.  [CTX Q] Surrounding context sequence in the query.  [FRM] Reading frame for the reference sequence and the reading frame for the query sequence respectively. Simply 'forward' 1, or 'reverse' -1 for nucmer data.  [TAGS] The reference FastA ID and the query FastA ID."
   ]
  },
  {
   "cell_type": "code",
   "execution_count": 36,
   "metadata": {},
   "outputs": [
    {
     "name": "stdout",
     "output_type": "stream",
     "text": [
      "/Users/javiercorreaalvarez/Downloads/NotebooksTrabajosFinales/Sacha_analysis/Sacha_cpDNA.fna /Users/javiercorreaalvarez/Downloads/NotebooksTrabajosFinales/Sacha_analysis/China_PlukenetiacpDNA.fasta\n",
      "NUCMER\n",
      "\n",
      "                               [REF]                [QRY]\n",
      "[Sequences]\n",
      "TotalSeqs                          1                    1\n",
      "AlignedSeqs               1(100.00%)           1(100.00%)\n",
      "UnalignedSeqs               0(0.00%)             0(0.00%)\n",
      "\n",
      "[Bases]\n",
      "TotalBases                    164111               161733\n",
      "AlignedBases          133592(81.40%)       161096(99.61%)\n",
      "UnalignedBases         30519(18.60%)           637(0.39%)\n",
      "\n",
      "[Alignments]\n",
      "1-to-1                            17                   17\n",
      "TotalLength                   161573               161165\n",
      "AvgLength                    9504.29              9480.29\n",
      "AvgIdentity                    98.21                98.21\n",
      "\n",
      "M-to-M                            17                   17\n",
      "TotalLength                   161573               161165\n",
      "AvgLength                    9504.29              9480.29\n",
      "AvgIdentity                    98.21                98.21\n",
      "\n",
      "[Feature Estimates]\n",
      "Breakpoints                       34                   33\n",
      "Relocations                        0                    0\n",
      "Translocations                     0                    0\n",
      "Inversions                         3                    3\n",
      "\n",
      "Insertions                         9                   12\n",
      "InsertionSum                   30526                 1198\n",
      "InsertionAvg                 3391.78                99.83\n",
      "\n",
      "TandemIns                          0                    2\n",
      "TandemInsSum                       0                  128\n",
      "TandemInsAvg                    0.00                64.00\n",
      "\n",
      "[SNPs]\n",
      "TotalSNPs                        353                  353\n",
      "TA                        39(11.05%)            18(5.10%)\n",
      "TG                         32(9.07%)             6(1.70%)\n",
      "TC                         14(3.97%)             8(2.27%)\n",
      "GA                          9(2.55%)          135(38.24%)\n",
      "GT                          6(1.70%)            32(9.07%)\n",
      "GC                          4(1.13%)             4(1.13%)\n",
      "CT                          8(2.27%)            14(3.97%)\n",
      "CG                          4(1.13%)             4(1.13%)\n",
      "CA                         11(3.12%)           73(20.68%)\n",
      "AT                         18(5.10%)           39(11.05%)\n",
      "AG                       135(38.24%)             9(2.55%)\n",
      "AC                        73(20.68%)            11(3.12%)\n",
      "\n",
      "TotalGSNPs                        52                   52\n",
      "GA                          1(1.92%)           17(32.69%)\n",
      "GT                          1(1.92%)             5(9.62%)\n",
      "GC                          0(0.00%)             1(1.92%)\n",
      "TA                          2(3.85%)             3(5.77%)\n",
      "TC                          3(5.77%)             1(1.92%)\n",
      "TG                          5(9.62%)             1(1.92%)\n",
      "CG                          1(1.92%)             0(0.00%)\n",
      "CT                          1(1.92%)             3(5.77%)\n",
      "CA                          1(1.92%)           17(32.69%)\n",
      "AG                        17(32.69%)             1(1.92%)\n",
      "AT                          3(5.77%)             2(3.85%)\n",
      "AC                        17(32.69%)             1(1.92%)\n",
      "\n",
      "TotalIndels                     2182                 2182\n",
      "T.                       526(24.11%)          359(16.45%)\n",
      "G.                        121(5.55%)            85(3.90%)\n",
      "C.                        104(4.77%)            70(3.21%)\n",
      "A.                       551(25.25%)          366(16.77%)\n",
      ".T                       359(16.45%)          526(24.11%)\n",
      ".G                         85(3.90%)           121(5.55%)\n",
      ".C                         70(3.21%)           104(4.77%)\n",
      ".A                       366(16.77%)          551(25.25%)\n",
      "\n",
      "TotalGIndels                       9                    9\n",
      "G.                          0(0.00%)             0(0.00%)\n",
      "T.                         3(33.33%)            2(22.22%)\n",
      "C.                         2(22.22%)             0(0.00%)\n",
      "A.                         1(11.11%)            1(11.11%)\n",
      ".A                         1(11.11%)            1(11.11%)\n",
      ".T                         2(22.22%)            3(33.33%)\n",
      ".G                          0(0.00%)             0(0.00%)\n",
      ".C                          0(0.00%)            2(22.22%)\n"
     ]
    }
   ],
   "source": [
    "%%bash\n",
    "cat dnadiff.report"
   ]
  },
  {
   "cell_type": "code",
   "execution_count": null,
   "metadata": {},
   "outputs": [],
   "source": []
  }
 ],
 "metadata": {
  "kernelspec": {
   "display_name": "Python 3",
   "language": "python",
   "name": "python3"
  },
  "language_info": {
   "codemirror_mode": {
    "name": "ipython",
    "version": 3
   },
   "file_extension": ".py",
   "mimetype": "text/x-python",
   "name": "python",
   "nbconvert_exporter": "python",
   "pygments_lexer": "ipython3",
   "version": "3.6.4"
  }
 },
 "nbformat": 4,
 "nbformat_minor": 2
}
