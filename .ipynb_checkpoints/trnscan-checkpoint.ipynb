{
 "cells": [
  {
   "cell_type": "markdown",
   "metadata": {},
   "source": [
    "# Analysis of Chinesse cpDNA sequence using trnascan-SE and blat protein\n",
    "\n",
    "### by Camilo García, EAFIT University\n",
    "### January, 2020"
   ]
  },
  {
   "cell_type": "markdown",
   "metadata": {},
   "source": [
    "# Intalling trnscan from anaconda\n",
    "\n",
    "For installation we followed the command:  `conda install -c bioconda trnascan-se` and for BLAT we used `conda install -c bioconda blat`. "
   ]
  },
  {
   "cell_type": "markdown",
   "metadata": {},
   "source": [
    "# Running the trnascan-SE\n",
    "\n",
    "We used the trnascan-SE [manual](https://manned.org/tRNAscan-SE/6fa2ba5c) to select the appropiate parameters, descrbed shortly as:\n",
    "\n",
    " - `-O` for organellar tRNAs search and runs Cove analysis only.\n",
    " - `-X`  it sets the Cove cutoff score for reporting tRNAs which is suggested to be between 15-20\n",
    " - `-o` directs the output to a path\n",
    " - `-m` directs the stats output to a path \n",
    " - `<file>` the actual .fasta file of the genome"
   ]
  },
  {
   "cell_type": "code",
   "execution_count": 18,
   "metadata": {},
   "outputs": [
    {
     "name": "stdout",
     "output_type": "stream",
     "text": [
      "Status: Running Infernal analysis\n"
     ]
    },
    {
     "name": "stderr",
     "output_type": "stream",
     "text": [
      "\n",
      "tRNAscan-SE v.2.0.5 (October 2019) - scan sequences for transfer RNAs\n",
      "Copyright (C) 2019 Patricia Chan and Todd Lowe\n",
      "                   University of California Santa Cruz\n",
      "Freely distributed under the GNU General Public License (GPLv3)\n",
      "\n",
      "------------------------------------------------------------\n",
      "Sequence file(s) to search:        Data/China_PlukenetiacpDNA.fasta\n",
      "Search Mode:                       Organellar\n",
      "Results written to:                Results-trnascan/chinnesse_trnas\n",
      "Output format:                     Tabular\n",
      "Searching with:                    Infernal single-pass scan\n",
      "                                   Maximum sensitivity mode\n",
      "Covariance model:                  /Users/camilogarcia/miniconda3/lib/tRNAscan-SE/models/TRNAinf-1415.cm\n",
      "tRNA covariance model search       \n",
      "    cutoff score:                  15\n",
      "\n",
      "Temporary directory:               /var/folders/ns/yr5bjprj5pd4lb54j2phtxl00000gn/T/\n",
      "Search statistics saved in:        Results-trnascan/chinnesse_trnas_stats\n",
      "\n",
      "Pseudogene checking disabled\n",
      "------------------------------------------------------------\n",
      "\n"
     ]
    }
   ],
   "source": [
    "%%bash\n",
    "\n",
    "trnascan-SE -O -X 15 -o Results-trnascan/chinnesse_trnas -m Results-trnascan/chinnesse_trnas_stats Data/China_PlukenetiacpDNA.fasta"
   ]
  },
  {
   "cell_type": "markdown",
   "metadata": {},
   "source": [
    "# Analysing the trnascan-SE outputs"
   ]
  },
  {
   "cell_type": "code",
   "execution_count": 24,
   "metadata": {},
   "outputs": [
    {
     "name": "stdout",
     "output_type": "stream",
     "text": [
      "Sequence    tRNA    Bounds  tRNA    Anti  Intron  Bounds  Inf\n",
      "Name        tRNA    #       Begin   End   Type    Codon   Begin   End     Score   Note\n",
      "--------    ------  -----   ------  ----  -----   -----   ----    ------  ------\n",
      "MF062253.1  1       10409   10480   Arg   TCT     0       0       67.2\n",
      "MF062253.1  2       28959   29029   Cys   GCA     0       0       60.7\n",
      "MF062253.1  3       32899   32970   Thr   GGT     0       0       65.9\n",
      "MF062253.1  4       38917   38987   Gly   GCC     0       0       63.0\n",
      "MF062253.1  5       47387   47473   Ser   GGA     0       0       73.6\n",
      "MF062253.1  6       50352   50424   Phe   GAA     0       0       67.1\n",
      "MF062253.1  7       54088   54160   Met   CAT     0       0       61.5\n",
      "MF062253.1  8       88669   88742   His   GTG     0       0       64.7\n",
      "MF062253.1  9       105822  105893  Val   GAC     0       0       58.9\n",
      "MF062253.1  10      107909  107996  Ile   GAT     107945  107960  16.4\n",
      "MF062253.1  11      108998  109102  Ala   TGC     109035  109074  16.3\n",
      "MF062253.1  12      113622  113695  Arg   ACG     0       0       57.7\n",
      "MF062253.1  13      120622  120701  Leu   TAG     0       0       56.1\n",
      "MF062253.1  14      136200  136271  Asn   GTT     0       0       68.2\n",
      "MF062253.1  15      151102  151182  Leu   CAA     0       0       62.3\n",
      "MF062253.1  16      159146  159219  Met   CAT     0       0       70.4\n",
      "MF062253.1  17      144754  144683  Val   GAC     0       0       58.9\n",
      "MF062253.1  18      142667  142580  Ile   GAT     142631  142616  16.4\n",
      "MF062253.1  19      141578  141474  Ala   TGC     141541  141502  16.3\n",
      "MF062253.1  20      136946  136873  Arg   ACG     0       0       57.7\n",
      "MF062253.1  21      114376  114305  Asn   GTT     0       0       68.2\n",
      "MF062253.1  22      99474   99394   Leu   CAA     0       0       62.3\n",
      "MF062253.1  23      91430   91357   Met   CAT     0       0       70.4\n",
      "MF062253.1  24      70164   70091   Pro   TGG     0       0       65.6\n",
      "MF062253.1  25      69908   69835   Trp   CCA     0       0       71.9\n",
      "MF062253.1  26      48849   48777   Thr   TGT     0       0       68.6\n",
      "MF062253.1  27      39247   39174   Met   CAT     0       0       66.3\n",
      "MF062253.1  28      37504   37415   Ser   TGA     0       0       80.1\n",
      "MF062253.1  29      32369   32297   Glu   TTC     0       0       53.9\n",
      "MF062253.1  30      32237   32154   Tyr   GTA     0       0       63.7\n",
      "MF062253.1  31      31642   31569   Asp   GTC     0       0       67.0\n",
      "MF062253.1  32      8593    8506    Ser   GCT     0       0       67.5\n",
      "MF062253.1  33      7229    7158    Gln   TTG     0       0       58.9\n",
      "MF062253.1  34      75      2       His   GTG     0       0       64.7\n"
     ]
    }
   ],
   "source": [
    "%%bash\n",
    "column -t Results-trnascan/chinnesse_trnas"
   ]
  },
  {
   "cell_type": "code",
   "execution_count": 26,
   "metadata": {},
   "outputs": [
    {
     "name": "stdout",
     "output_type": "stream",
     "text": [
      "tRNAscan-SE                                                   v.2.0.5       (October                                                               2019)                             scan                                    results  (on   host  MacBook-Air-de-Camilo-2.local)\n",
      "Started:                                                      Sat           Jan                                                                    18                                17:59:40                                -05      2020\n",
      "------------------------------------------------------------\n",
      "Sequence                                                      file(s)       to                                                                     search:                           Data/China_PlukenetiacpDNA.fasta\n",
      "Search                                                        Mode:         Organellar\n",
      "Results                                                       written       to:                                                                    Results-trnascan/chinnesse_trnas\n",
      "Output                                                        format:       Tabular\n",
      "Searching                                                     with:         Infernal                                                               single-pass                       scan\n",
      "Maximum                                                       sensitivity   mode\n",
      "Covariance                                                    model:        /Users/camilogarcia/miniconda3/lib/tRNAscan-SE/models/TRNAinf-1415.cm\n",
      "tRNA                                                          covariance    model                                                                  search\n",
      "cutoff                                                        score:        15\n",
      "Temporary                                                     directory:    /var/folders/ns/yr5bjprj5pd4lb54j2phtxl00000gn/T/\n",
      "Search                                                        statistics    saved                                                                  in:                               Results-trnascan/chinnesse_trnas_stats\n",
      "Pseudogene                                                    checking      disabled\n",
      "------------------------------------------------------------\n",
      "Infernal                                                      Stats:\n",
      "-----------\n",
      "Sequences                                                     read:         1\n",
      "Infernal-confirmed                                            tRNAs:        34\n",
      "Bases                                                         scanned       by                                                                     Infernal:                         161733\n",
      "%                                                             seq           scanned                                                                by                                Infernal:                               100.0    %\n",
      "Script                                                        CPU           time:                                                                  0.06                              s\n",
      "Infernal                                                      CPU           time:                                                                  226.42                            s\n",
      "Scan                                                          speed:        714.3                                                                  bp/sec\n",
      "Infernal                                                      analysis      of                                                                     tRNAs                             ended:                                  Sat      Jan   18    18:02:02                        -05   2020\n",
      "Overall                                                       scan          speed:                                                                 714.1                             bp/sec\n",
      "tRNAs                                                         decoding      Standard                                                               20                                AA:                                     34\n",
      "Selenocysteine                                                tRNAs         (TCA):                                                                 0\n",
      "Possible                                                      suppressor    tRNAs                                                                  (CTA,TTA,TCA):                    0\n",
      "tRNAs                                                         with          undetermined/unknown                                                   isotypes:                         0\n",
      "Predicted                                                     pseudogenes:  0\n",
      "-------\n",
      "Total                                                         tRNAs:        34\n",
      "tRNAs                                                         with          introns:                                                               4\n",
      "|                                                             Ala-TGC:      2                                                                      |                                 Ile-GAT:                                2        |\n",
      "Isotype                                                       /             Anticodon                                                              Counts:\n",
      "Ala                                                           :             2                                                                      AGC:                              GGC:                                    CGC:     TGC:  2\n",
      "Gly                                                           :             1                                                                      ACC:                              GCC:                                    1        CCC:  TCC:\n",
      "Pro                                                           :             1                                                                      AGG:                              GGG:                                    CGG:     TGG:  1\n",
      "Thr                                                           :             2                                                                      AGT:                              GGT:                                    1        CGT:  TGT:  1\n",
      "Val                                                           :             2                                                                      AAC:                              GAC:                                    2        CAC:  TAC:\n",
      "Ser                                                           :             3                                                                      AGA:                              GGA:                                    1        CGA:  TGA:  1                               ACT:  GCT:  1\n",
      "Arg                                                           :             3                                                                      ACG:                              2                                       GCG:     CCG:  TCG:  CCT:                            TCT:  1\n",
      "Leu                                                           :             3                                                                      AAG:                              GAG:                                    CAG:     TAG:  1     CAA:                            2     TAA:\n",
      "Phe                                                           :             1                                                                      AAA:                              GAA:                                    1\n",
      "Asn                                                           :             2                                                                      ATT:                              GTT:                                    2\n",
      "Lys                                                           :             0                                                                      CTT:                              TTT:\n",
      "Asp                                                           :             1                                                                      ATC:                              GTC:                                    1\n",
      "Glu                                                           :             1                                                                      CTC:                              TTC:                                    1\n",
      "His                                                           :             2                                                                      ATG:                              GTG:                                    2\n",
      "Gln                                                           :             1                                                                      CTG:                              TTG:                                    1\n",
      "Ile                                                           :             2                                                                      AAT:                              GAT:                                    2        CAT:  TAT:\n",
      "Met                                                           :             4                                                                      CAT:                              4\n",
      "Tyr                                                           :             1                                                                      ATA:                              GTA:                                    1\n",
      "Supres                                                        :             0                                                                      CTA:                              TTA:                                    TCA:\n",
      "Cys                                                           :             1                                                                      ACA:                              GCA:                                    1\n",
      "Trp                                                           :             1                                                                      CCA:                              1\n",
      "SelCys                                                        :             0                                                                      TCA:\n"
     ]
    }
   ],
   "source": [
    "%%bash\n",
    "column -t Results-trnascan/chinnesse_trnas_stats"
   ]
  },
  {
   "cell_type": "markdown",
   "metadata": {},
   "source": [
    "# Running Blat protein\n",
    "\n",
    "We used the `blat` entry to display the help menu and select the parameters for our analysis. We found that the following parameters can be usefuel:\n",
    "- `prot` which selects the appropiate database to make the query\n",
    "- `-minIdentity <score>` which sets the seq identity in percent. The max score is 90"
   ]
  },
  {
   "cell_type": "code",
   "execution_count": 29,
   "metadata": {},
   "outputs": [
    {
     "name": "stdout",
     "output_type": "stream",
     "text": [
      "blat - Standalone BLAT v. 36 fast sequence search command line tool\n",
      "usage:\n",
      "   blat database query [-ooc=11.ooc] output.psl\n",
      "where:\n",
      "   database and query are each either a .fa, .nib or .2bit file,\n",
      "      or a list of these files with one file name per line.\n",
      "   -ooc=11.ooc tells the program to load over-occurring 11-mers from\n",
      "      an external file.  This will increase the speed\n",
      "      by a factor of 40 in many cases, but is not required.\n",
      "   output.psl is the name of the output file.\n",
      "   Subranges of .nib and .2bit files may be specified using the syntax:\n",
      "      /path/file.nib:seqid:start-end\n",
      "   or\n",
      "      /path/file.2bit:seqid:start-end\n",
      "   or\n",
      "      /path/file.nib:start-end\n",
      "   With the second form, a sequence id of file:start-end will be used.\n",
      "options:\n",
      "   -t=type        Database type.  Type is one of:\n",
      "                    dna - DNA sequence\n",
      "                    prot - protein sequence\n",
      "                    dnax - DNA sequence translated in six frames to protein\n",
      "                  The default is dna.\n",
      "   -q=type        Query type.  Type is one of:\n",
      "                    dna - DNA sequence\n",
      "                    rna - RNA sequence\n",
      "                    prot - protein sequence\n",
      "                    dnax - DNA sequence translated in six frames to protein\n",
      "                    rnax - DNA sequence translated in three frames to protein\n",
      "                  The default is dna.\n",
      "   -prot          Synonymous with -t=prot -q=prot.\n",
      "   -ooc=N.ooc     Use overused tile file N.ooc.  N should correspond to \n",
      "                  the tileSize.\n",
      "   -tileSize=N    Sets the size of match that triggers an alignment.  \n",
      "                  Usually between 8 and 12.\n",
      "                  Default is 11 for DNA and 5 for protein.\n",
      "   -stepSize=N    Spacing between tiles. Default is tileSize.\n",
      "   -oneOff=N      If set to 1, this allows one mismatch in tile and still\n",
      "                  triggers an alignment.  Default is 0.\n",
      "   -minMatch=N    Sets the number of tile matches.  Usually set from 2 to 4.\n",
      "                  Default is 2 for nucleotide, 1 for protein.\n",
      "   -minScore=N    Sets minimum score.  This is the matches minus the \n",
      "                  mismatches minus some sort of gap penalty.  Default is 30.\n",
      "   -minIdentity=N Sets minimum sequence identity (in percent).  Default is\n",
      "                  90 for nucleotide searches, 25 for protein or translated\n",
      "                  protein searches.\n",
      "   -maxGap=N      Sets the size of maximum gap between tiles in a clump.  Usually\n",
      "                  set from 0 to 3.  Default is 2. Only relevent for minMatch > 1.\n",
      "   -noHead        Suppresses .psl header (so it's just a tab-separated file).\n",
      "   -makeOoc=N.ooc Make overused tile file. Target needs to be complete genome.\n",
      "   -repMatch=N    Sets the number of repetitions of a tile allowed before\n",
      "                  it is marked as overused.  Typically this is 256 for tileSize\n",
      "                  12, 1024 for tile size 11, 4096 for tile size 10.\n",
      "                  Default is 1024.  Typically comes into play only with makeOoc.\n",
      "                  Also affected by stepSize: when stepSize is halved, repMatch is\n",
      "                  doubled to compensate.\n",
      "   -mask=type     Mask out repeats.  Alignments won't be started in masked region\n",
      "                  but may extend through it in nucleotide searches.  Masked areas\n",
      "                  are ignored entirely in protein or translated searches. Types are:\n",
      "                    lower - mask out lower-cased sequence\n",
      "                    upper - mask out upper-cased sequence\n",
      "                    out   - mask according to database.out RepeatMasker .out file\n",
      "                    file.out - mask database according to RepeatMasker file.out\n",
      "   -qMask=type    Mask out repeats in query sequence.  Similar to -mask above, but\n",
      "                  for query rather than target sequence.\n",
      "   -repeats=type  Type is same as mask types above.  Repeat bases will not be\n",
      "                  masked in any way, but matches in repeat areas will be reported\n",
      "                  separately from matches in other areas in the psl output.\n",
      "   -minRepDivergence=NN   Minimum percent divergence of repeats to allow \n",
      "                  them to be unmasked.  Default is 15.  Only relevant for \n",
      "                  masking using RepeatMasker .out files.\n",
      "   -dots=N        Output dot every N sequences to show program's progress.\n",
      "   -trimT         Trim leading poly-T.\n",
      "   -noTrimA       Don't trim trailing poly-A.\n",
      "   -trimHardA     Remove poly-A tail from qSize as well as alignments in \n",
      "                  psl output.\n",
      "   -fastMap       Run for fast DNA/DNA remapping - not allowing introns, \n",
      "                  requiring high %ID. Query sizes must not exceed 5000.\n",
      "   -out=type      Controls output file format.  Type is one of:\n",
      "                    psl - Default.  Tab-separated format, no sequence\n",
      "                    pslx - Tab-separated format with sequence\n",
      "                    axt - blastz-associated axt format\n",
      "                    maf - multiz-associated maf format\n",
      "                    sim4 - similar to sim4 format\n",
      "                    wublast - similar to wublast format\n",
      "                    blast - similar to NCBI blast format\n",
      "                    blast8- NCBI blast tabular format\n",
      "                    blast9 - NCBI blast tabular format with comments\n",
      "   -fine          For high-quality mRNAs, look harder for small initial and\n",
      "                  terminal exons.  Not recommended for ESTs.\n",
      "   -maxIntron=N  Sets maximum intron size. Default is 750000.\n",
      "   -extendThroughN  Allows extension of alignment through large blocks of Ns.\n"
     ]
    },
    {
     "ename": "CalledProcessError",
     "evalue": "Command 'b'\\nblat\\n'' returned non-zero exit status 255.",
     "output_type": "error",
     "traceback": [
      "\u001b[0;31m---------------------------------------------------------------------------\u001b[0m",
      "\u001b[0;31mCalledProcessError\u001b[0m                        Traceback (most recent call last)",
      "\u001b[0;32m<ipython-input-29-88ee2737dd2c>\u001b[0m in \u001b[0;36m<module>\u001b[0;34m\u001b[0m\n\u001b[0;32m----> 1\u001b[0;31m \u001b[0mget_ipython\u001b[0m\u001b[0;34m(\u001b[0m\u001b[0;34m)\u001b[0m\u001b[0;34m.\u001b[0m\u001b[0mrun_cell_magic\u001b[0m\u001b[0;34m(\u001b[0m\u001b[0;34m'bash'\u001b[0m\u001b[0;34m,\u001b[0m \u001b[0;34m''\u001b[0m\u001b[0;34m,\u001b[0m \u001b[0;34m'\\nblat\\n'\u001b[0m\u001b[0;34m)\u001b[0m\u001b[0;34m\u001b[0m\u001b[0;34m\u001b[0m\u001b[0m\n\u001b[0m",
      "\u001b[0;32m~/miniconda3/lib/python3.7/site-packages/IPython/core/interactiveshell.py\u001b[0m in \u001b[0;36mrun_cell_magic\u001b[0;34m(self, magic_name, line, cell)\u001b[0m\n\u001b[1;32m   2357\u001b[0m             \u001b[0;32mwith\u001b[0m \u001b[0mself\u001b[0m\u001b[0;34m.\u001b[0m\u001b[0mbuiltin_trap\u001b[0m\u001b[0;34m:\u001b[0m\u001b[0;34m\u001b[0m\u001b[0;34m\u001b[0m\u001b[0m\n\u001b[1;32m   2358\u001b[0m                 \u001b[0margs\u001b[0m \u001b[0;34m=\u001b[0m \u001b[0;34m(\u001b[0m\u001b[0mmagic_arg_s\u001b[0m\u001b[0;34m,\u001b[0m \u001b[0mcell\u001b[0m\u001b[0;34m)\u001b[0m\u001b[0;34m\u001b[0m\u001b[0;34m\u001b[0m\u001b[0m\n\u001b[0;32m-> 2359\u001b[0;31m                 \u001b[0mresult\u001b[0m \u001b[0;34m=\u001b[0m \u001b[0mfn\u001b[0m\u001b[0;34m(\u001b[0m\u001b[0;34m*\u001b[0m\u001b[0margs\u001b[0m\u001b[0;34m,\u001b[0m \u001b[0;34m**\u001b[0m\u001b[0mkwargs\u001b[0m\u001b[0;34m)\u001b[0m\u001b[0;34m\u001b[0m\u001b[0;34m\u001b[0m\u001b[0m\n\u001b[0m\u001b[1;32m   2360\u001b[0m             \u001b[0;32mreturn\u001b[0m \u001b[0mresult\u001b[0m\u001b[0;34m\u001b[0m\u001b[0;34m\u001b[0m\u001b[0m\n\u001b[1;32m   2361\u001b[0m \u001b[0;34m\u001b[0m\u001b[0m\n",
      "\u001b[0;32m~/miniconda3/lib/python3.7/site-packages/IPython/core/magics/script.py\u001b[0m in \u001b[0;36mnamed_script_magic\u001b[0;34m(line, cell)\u001b[0m\n\u001b[1;32m    140\u001b[0m             \u001b[0;32melse\u001b[0m\u001b[0;34m:\u001b[0m\u001b[0;34m\u001b[0m\u001b[0;34m\u001b[0m\u001b[0m\n\u001b[1;32m    141\u001b[0m                 \u001b[0mline\u001b[0m \u001b[0;34m=\u001b[0m \u001b[0mscript\u001b[0m\u001b[0;34m\u001b[0m\u001b[0;34m\u001b[0m\u001b[0m\n\u001b[0;32m--> 142\u001b[0;31m             \u001b[0;32mreturn\u001b[0m \u001b[0mself\u001b[0m\u001b[0;34m.\u001b[0m\u001b[0mshebang\u001b[0m\u001b[0;34m(\u001b[0m\u001b[0mline\u001b[0m\u001b[0;34m,\u001b[0m \u001b[0mcell\u001b[0m\u001b[0;34m)\u001b[0m\u001b[0;34m\u001b[0m\u001b[0;34m\u001b[0m\u001b[0m\n\u001b[0m\u001b[1;32m    143\u001b[0m \u001b[0;34m\u001b[0m\u001b[0m\n\u001b[1;32m    144\u001b[0m         \u001b[0;31m# write a basic docstring:\u001b[0m\u001b[0;34m\u001b[0m\u001b[0;34m\u001b[0m\u001b[0;34m\u001b[0m\u001b[0m\n",
      "\u001b[0;32m</Users/camilogarcia/miniconda3/lib/python3.7/site-packages/decorator.py:decorator-gen-110>\u001b[0m in \u001b[0;36mshebang\u001b[0;34m(self, line, cell)\u001b[0m\n",
      "\u001b[0;32m~/miniconda3/lib/python3.7/site-packages/IPython/core/magic.py\u001b[0m in \u001b[0;36m<lambda>\u001b[0;34m(f, *a, **k)\u001b[0m\n\u001b[1;32m    185\u001b[0m     \u001b[0;31m# but it's overkill for just that one bit of state.\u001b[0m\u001b[0;34m\u001b[0m\u001b[0;34m\u001b[0m\u001b[0;34m\u001b[0m\u001b[0m\n\u001b[1;32m    186\u001b[0m     \u001b[0;32mdef\u001b[0m \u001b[0mmagic_deco\u001b[0m\u001b[0;34m(\u001b[0m\u001b[0marg\u001b[0m\u001b[0;34m)\u001b[0m\u001b[0;34m:\u001b[0m\u001b[0;34m\u001b[0m\u001b[0;34m\u001b[0m\u001b[0m\n\u001b[0;32m--> 187\u001b[0;31m         \u001b[0mcall\u001b[0m \u001b[0;34m=\u001b[0m \u001b[0;32mlambda\u001b[0m \u001b[0mf\u001b[0m\u001b[0;34m,\u001b[0m \u001b[0;34m*\u001b[0m\u001b[0ma\u001b[0m\u001b[0;34m,\u001b[0m \u001b[0;34m**\u001b[0m\u001b[0mk\u001b[0m\u001b[0;34m:\u001b[0m \u001b[0mf\u001b[0m\u001b[0;34m(\u001b[0m\u001b[0;34m*\u001b[0m\u001b[0ma\u001b[0m\u001b[0;34m,\u001b[0m \u001b[0;34m**\u001b[0m\u001b[0mk\u001b[0m\u001b[0;34m)\u001b[0m\u001b[0;34m\u001b[0m\u001b[0;34m\u001b[0m\u001b[0m\n\u001b[0m\u001b[1;32m    188\u001b[0m \u001b[0;34m\u001b[0m\u001b[0m\n\u001b[1;32m    189\u001b[0m         \u001b[0;32mif\u001b[0m \u001b[0mcallable\u001b[0m\u001b[0;34m(\u001b[0m\u001b[0marg\u001b[0m\u001b[0;34m)\u001b[0m\u001b[0;34m:\u001b[0m\u001b[0;34m\u001b[0m\u001b[0;34m\u001b[0m\u001b[0m\n",
      "\u001b[0;32m~/miniconda3/lib/python3.7/site-packages/IPython/core/magics/script.py\u001b[0m in \u001b[0;36mshebang\u001b[0;34m(self, line, cell)\u001b[0m\n\u001b[1;32m    243\u001b[0m             \u001b[0msys\u001b[0m\u001b[0;34m.\u001b[0m\u001b[0mstderr\u001b[0m\u001b[0;34m.\u001b[0m\u001b[0mflush\u001b[0m\u001b[0;34m(\u001b[0m\u001b[0;34m)\u001b[0m\u001b[0;34m\u001b[0m\u001b[0;34m\u001b[0m\u001b[0m\n\u001b[1;32m    244\u001b[0m         \u001b[0;32mif\u001b[0m \u001b[0margs\u001b[0m\u001b[0;34m.\u001b[0m\u001b[0mraise_error\u001b[0m \u001b[0;32mand\u001b[0m \u001b[0mp\u001b[0m\u001b[0;34m.\u001b[0m\u001b[0mreturncode\u001b[0m\u001b[0;34m!=\u001b[0m\u001b[0;36m0\u001b[0m\u001b[0;34m:\u001b[0m\u001b[0;34m\u001b[0m\u001b[0;34m\u001b[0m\u001b[0m\n\u001b[0;32m--> 245\u001b[0;31m             \u001b[0;32mraise\u001b[0m \u001b[0mCalledProcessError\u001b[0m\u001b[0;34m(\u001b[0m\u001b[0mp\u001b[0m\u001b[0;34m.\u001b[0m\u001b[0mreturncode\u001b[0m\u001b[0;34m,\u001b[0m \u001b[0mcell\u001b[0m\u001b[0;34m,\u001b[0m \u001b[0moutput\u001b[0m\u001b[0;34m=\u001b[0m\u001b[0mout\u001b[0m\u001b[0;34m,\u001b[0m \u001b[0mstderr\u001b[0m\u001b[0;34m=\u001b[0m\u001b[0merr\u001b[0m\u001b[0;34m)\u001b[0m\u001b[0;34m\u001b[0m\u001b[0;34m\u001b[0m\u001b[0m\n\u001b[0m\u001b[1;32m    246\u001b[0m \u001b[0;34m\u001b[0m\u001b[0m\n\u001b[1;32m    247\u001b[0m     \u001b[0;32mdef\u001b[0m \u001b[0m_run_script\u001b[0m\u001b[0;34m(\u001b[0m\u001b[0mself\u001b[0m\u001b[0;34m,\u001b[0m \u001b[0mp\u001b[0m\u001b[0;34m,\u001b[0m \u001b[0mcell\u001b[0m\u001b[0;34m,\u001b[0m \u001b[0mto_close\u001b[0m\u001b[0;34m)\u001b[0m\u001b[0;34m:\u001b[0m\u001b[0;34m\u001b[0m\u001b[0;34m\u001b[0m\u001b[0m\n",
      "\u001b[0;31mCalledProcessError\u001b[0m: Command 'b'\\nblat\\n'' returned non-zero exit status 255."
     ]
    }
   ],
   "source": [
    "%%bash\n",
    "\n",
    "bla"
   ]
  },
  {
   "cell_type": "code",
   "execution_count": null,
   "metadata": {},
   "outputs": [],
   "source": []
  }
 ],
 "metadata": {
  "kernelspec": {
   "display_name": "Python 3",
   "language": "python",
   "name": "python3"
  },
  "language_info": {
   "codemirror_mode": {
    "name": "ipython",
    "version": 3
   },
   "file_extension": ".py",
   "mimetype": "text/x-python",
   "name": "python",
   "nbconvert_exporter": "python",
   "pygments_lexer": "ipython3",
   "version": "3.7.5"
  }
 },
 "nbformat": 4,
 "nbformat_minor": 4
}
