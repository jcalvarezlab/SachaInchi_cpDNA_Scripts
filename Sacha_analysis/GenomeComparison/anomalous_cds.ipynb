{
 "cells": [
  {
   "cell_type": "markdown",
   "metadata": {},
   "source": [
    "# **Chloroplast Curation**"
   ]
  },
  {
   "cell_type": "markdown",
   "metadata": {},
   "source": [
    "### Simón Villanueva"
   ]
  },
  {
   "cell_type": "markdown",
   "metadata": {},
   "source": [
    "El proposito de este notebook es describir claramente los problemas que se tienen con los CDS en la anotación del cloroplasto de Sacha Inchi.\n",
    "\n",
    "El enfoque aquí son los CDS ya que los tRNAs han sido más sujetos de revisión anteriormente y los rRNAs parecen no tener problemas."
   ]
  },
  {
   "cell_type": "markdown",
   "metadata": {
    "jupyter": {
     "source_hidden": true
    }
   },
   "source": [
    "Además se revisa la anotación de cloroplasto chino."
   ]
  },
  {
   "cell_type": "markdown",
   "metadata": {},
   "source": [
    "***"
   ]
  },
  {
   "cell_type": "markdown",
   "metadata": {},
   "source": [
    "Primero cargamos el genbank actual que tenemos de Sacha"
   ]
  },
  {
   "cell_type": "code",
   "execution_count": 1,
   "metadata": {},
   "outputs": [],
   "source": [
    "from Bio import SeqIO"
   ]
  },
  {
   "cell_type": "code",
   "execution_count": 2,
   "metadata": {},
   "outputs": [],
   "source": [
    "sacha = SeqIO.read(\"../../../Data/Processed/Chloroplast_annotations/Corrected_annotation_wo_ref/Sacha_denovo_tscan_woref/Sacha_denovo_Tscan_wref_Plukenetia-chloroplast_GenBank.gb\",\"gb\")"
   ]
  },
  {
   "cell_type": "markdown",
   "metadata": {},
   "source": [
    "Ahora, ¿qué características deben tener los genes codificantes? Bueno, que sean fácilmente chequeables, vienen a la mente 3:\n",
    "\n",
    "- Deben iniciar por un codón de inicio (Metionina).\n",
    "- Deben contener uno y sólo un codón de parada, el cuál debe ubicarse al final del último codón.\n",
    "- Debe estar exactamente dividio en codones (sin que queden nucleotidos sobrando)."
   ]
  },
  {
   "cell_type": "markdown",
   "metadata": {},
   "source": [
    "Entonces, haremos una pequeña función que chequee estas condiciones y reporte en una tabla aquellos CDS que sean anómalos."
   ]
  },
  {
   "cell_type": "markdown",
   "metadata": {},
   "source": []
  },
  {
   "cell_type": "code",
   "execution_count": 20,
   "metadata": {},
   "outputs": [],
   "source": [
    "def check_start(cds, gen_cod):\n",
    "    \"Devuelve True si la protina empieza por metionina si no False\"\n",
    "    return True if cds.seq.translate(table = gen_cod)[0] == \"M\" else False\n",
    "\n",
    "def check_exact_cod(cds):\n",
    "    \"Cálcula cuantos nucleotidos le 'sobran' a la proteina\"\n",
    "    return len(cds.seq) % 3\n",
    "\n",
    "def check_stops(cds, gen_cod):\n",
    "    \"\"\"Devuelve el número de codones de parada si hay más de uno\n",
    "    Si hay exactamente uno, devuelve True si está en la última \n",
    "    posición o si no False\"\"\"\n",
    "    \n",
    "    prot = cds.seq.translate(table = gen_cod)\n",
    "    stops = prot.count(\"*\")\n",
    "    if stops != 1:\n",
    "        return stops\n",
    "    else:\n",
    "        return True if prot[-1] == \"*\" else False\n",
    "\n",
    "def make_table(bad_cds):\n",
    "    print(\"index\\tcds\\tstart\\tcod_excess\\tstop\")\n",
    "    for cds, reasons in bad_cds.items():\n",
    "        aux_list = [str(reasons[\"index\"]),cds]\n",
    "        aux_list.append(str(reasons[\"start\"]))\n",
    "        aux_list.append(str(reasons[\"cod\"]))\n",
    "        aux_list.append(str(reasons[\"end\"]))\n",
    "        print(\"\\t\".join(aux_list))\n",
    "    \n",
    "def check_cds(req, gen_cod = 11):\n",
    "    anomalus = {}\n",
    "    for i,ft in enumerate(req.features):\n",
    "        if ft.type == \"CDS\":\n",
    "            reasons = {}\n",
    "            cds = ft.extract(req)\n",
    "            reasons[\"start\"] = check_start(cds, gen_cod)\n",
    "            reasons[\"cod\"] = check_exact_cod(cds)\n",
    "            reasons[\"end\"] = check_stops(cds, gen_cod)\n",
    "            \n",
    "            if reasons[\"start\"] != True or reasons[\"cod\"] != 0 or reasons[\"end\"] != True:\n",
    "                reasons[\"index\"] = i\n",
    "                anomalus[ft.qualifiers[\"gene\"][0]] = reasons\n",
    "    make_table(anomalus)\n",
    "    "
   ]
  },
  {
   "cell_type": "code",
   "execution_count": 21,
   "metadata": {},
   "outputs": [
    {
     "name": "stdout",
     "output_type": "stream",
     "text": [
      "index\tcds\tstart\tcod_excess\tstop\n",
      "50\tpsbC\tFalse\t0\tTrue\n",
      "71\trpoC1\tTrue\t1\t0\n",
      "83\tatpI\tFalse\t0\tTrue\n",
      "87\tatpF\tTrue\t2\t13\n",
      "110\tndhK\tTrue\t2\t0\n",
      "187\tpetB\tFalse\t1\t13\n",
      "190\tpetD\tFalse\t2\t18\n",
      "200\tinfA\tFalse\t0\t2\n",
      "206\trpl16\tFalse\t1\t10\n",
      "212\trpl22\tTrue\t1\t5\n",
      "370\trps19\tFalse\t0\tTrue\n",
      "274\tycf1\tTrue\t1\tFalse\n",
      "288\tndhI\tTrue\t0\t0\n",
      "291\tndhG\tTrue\t0\t2\n",
      "297\tndhD\tFalse\t0\tTrue\n",
      "301\tccsA\tTrue\t2\t0\n",
      "309\tndhF\tTrue\t1\t0\n",
      "315\tycf1-fragment\tTrue\t2\t0\n"
     ]
    }
   ],
   "source": [
    "check_cds(sacha)"
   ]
  },
  {
   "cell_type": "markdown",
   "metadata": {},
   "source": [
    "Así, parece que tenemos 18 CDS listados, de los cuales deberiamos revisar al menos 17 (ycf1-fragment está bien que sea así). Entonces tenemos:\n",
    "\n",
    "- Proteinas que no inician en Metionina: 8\n",
    "- Proteinas con exceso de nucleotidos: 10\n",
    "- Proteinas con Stops anormales: 13"
   ]
  },
  {
   "cell_type": "markdown",
   "metadata": {},
   "source": [
    "Pueden ser variadas las causales de esto, pero lo más probable es que al anotador le haya faltado un nucleotido que haya cambiado el marco de lectura; o que afecte precisamente el codón de inicio o de parada. Estas son el tipo de cosas que deberiamos revisar en primera instancia."
   ]
  }
 ],
 "metadata": {
  "kernelspec": {
   "display_name": "Python 3",
   "language": "python",
   "name": "python3"
  },
  "language_info": {
   "codemirror_mode": {
    "name": "ipython",
    "version": 3
   },
   "file_extension": ".py",
   "mimetype": "text/x-python",
   "name": "python",
   "nbconvert_exporter": "python",
   "pygments_lexer": "ipython3",
   "version": "3.7.3"
  }
 },
 "nbformat": 4,
 "nbformat_minor": 4
}
