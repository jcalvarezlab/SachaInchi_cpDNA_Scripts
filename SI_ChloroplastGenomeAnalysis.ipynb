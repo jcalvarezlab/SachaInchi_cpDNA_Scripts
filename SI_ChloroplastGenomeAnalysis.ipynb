{
 "cells": [
  {
   "cell_type": "markdown",
   "metadata": {},
   "source": [
    "# Percentage of CDS, tRNAs and rRNAs in cpDNA of Sacha inchi\n",
    "\n",
    "### by Javier C. Alvarez, EAFIT University\n",
    "### January, 2020"
   ]
  },
  {
   "cell_type": "markdown",
   "metadata": {},
   "source": [
    "### Funtions and libraries"
   ]
  },
  {
   "cell_type": "code",
   "execution_count": 1,
   "metadata": {},
   "outputs": [],
   "source": [
    "from Bio import SeqIO"
   ]
  },
  {
   "cell_type": "code",
   "execution_count": 2,
   "metadata": {},
   "outputs": [],
   "source": [
    "#please select: CDS, gene, intron, exon, tRNA, rRNA, misc_feature or repeat_region\n",
    "def length_features(feature):\n",
    "    lengths=[]\n",
    "    for ft in record.features:\n",
    "        if ft.type == feature:\n",
    "            lengths.append(len(ft))\n",
    "    return(lengths)"
   ]
  },
  {
   "cell_type": "code",
   "execution_count": 3,
   "metadata": {},
   "outputs": [],
   "source": [
    "#GC = lambda x: (x.count('G')+x.count('C'))/len(x)\n",
    "def GC(seq):\n",
    "    return (seq.count(\"G\")+seq.count(\"C\"))/len(seq)"
   ]
  },
  {
   "cell_type": "markdown",
   "metadata": {},
   "source": [
    "## Content of genes in Plukenetia volubilis - This work"
   ]
  },
  {
   "cell_type": "code",
   "execution_count": 4,
   "metadata": {},
   "outputs": [],
   "source": [
    "#loading genbank file \n",
    "record = SeqIO.read(\"Data/Sacha_GenBank.gb\", \"genbank\")"
   ]
  },
  {
   "cell_type": "code",
   "execution_count": 5,
   "metadata": {},
   "outputs": [
    {
     "name": "stdout",
     "output_type": "stream",
     "text": [
      "%GC content in Plukenetia is 35.79467555495975%\n"
     ]
    }
   ],
   "source": [
    "print(\"%GC content in \"+ record.id + \" is \" + str(GC(record.seq)*100) + \"%\")"
   ]
  },
  {
   "cell_type": "code",
   "execution_count": 6,
   "metadata": {},
   "outputs": [
    {
     "name": "stdout",
     "output_type": "stream",
     "text": [
      "GenBank file: Plukenetia has 130 features with genes in annotation, summing 106095 bp in total\n"
     ]
    }
   ],
   "source": [
    "#length for genes\n",
    "print(\"GenBank file: \"+ record.id + \" has \" + str(len(length_features(\"gene\")))+\" features with genes in annotation, summing \" +  str(sum(length_features(\"gene\"))) + \" bp in total\")"
   ]
  },
  {
   "cell_type": "code",
   "execution_count": 18,
   "metadata": {},
   "outputs": [
    {
     "data": {
      "text/plain": [
       "164111"
      ]
     },
     "execution_count": 18,
     "metadata": {},
     "output_type": "execute_result"
    }
   ],
   "source": [
    "len(record)"
   ]
  },
  {
   "cell_type": "code",
   "execution_count": 17,
   "metadata": {},
   "outputs": [
    {
     "name": "stdout",
     "output_type": "stream",
     "text": [
      "GenBank file: Plukenetia has 86 features with CDSs in annotation, summing 80816 bp in total\n",
      "Percentage of Coding Sequences is: 49.24471851368891%\n"
     ]
    }
   ],
   "source": [
    "#length for CDS\n",
    "print(\"GenBank file: \"+ record.id + \" has \" + str(len(length_features(\"CDS\")))+\" features with CDSs in annotation, summing \" +  str(sum(length_features(\"CDS\"))) + \" bp in total\")\n",
    "print(\"Percentage of Coding Sequences is: \" + str((sum(length_features(\"CDS\"))/len(record))*100)+\"%\")"
   ]
  },
  {
   "cell_type": "code",
   "execution_count": 19,
   "metadata": {},
   "outputs": [
    {
     "name": "stdout",
     "output_type": "stream",
     "text": [
      "GenBank file: Plukenetia has 36 features with tRNAs in annotation, summing 2809 bp in total\n"
     ]
    }
   ],
   "source": [
    "#length for tRNAs\n",
    "print(\"GenBank file: \"+ record.id + \" has \" + str(len(length_features(\"tRNA\")))+\" features with tRNAs in annotation, summing \" +  str(sum(length_features(\"tRNA\"))) + \" bp in total\")"
   ]
  },
  {
   "cell_type": "code",
   "execution_count": 20,
   "metadata": {},
   "outputs": [
    {
     "name": "stdout",
     "output_type": "stream",
     "text": [
      "GenBank file: Plukenetia has 8 features with rRNAs in annotation, summing 9058 bp in total\n"
     ]
    }
   ],
   "source": [
    "#length for rRNAs\n",
    "print(\"GenBank file: \"+ record.id + \" has \" + str(len(length_features(\"rRNA\")))+\" features with rRNAs in annotation, summing \" +  str(sum(length_features(\"rRNA\"))) + \" bp in total\")"
   ]
  },
  {
   "cell_type": "code",
   "execution_count": 21,
   "metadata": {},
   "outputs": [
    {
     "name": "stdout",
     "output_type": "stream",
     "text": [
      "GenBank file: Plukenetia has 20 features with introns in annotation, summing 14936 bp in total\n",
      "Percentage of intron is: 9.101157143640584%\n"
     ]
    }
   ],
   "source": [
    "#length for introns\n",
    "print(\"GenBank file: \"+ record.id + \" has \" + str(len(length_features(\"intron\")))+\" features with introns in annotation, summing \" +  str(sum(length_features(\"intron\"))) + \" bp in total\")\n",
    "print(\"Percentage of intron is: \" + str((sum(length_features(\"intron\"))/len(record))*100)+\"%\")"
   ]
  },
  {
   "cell_type": "code",
   "execution_count": 22,
   "metadata": {},
   "outputs": [
    {
     "name": "stdout",
     "output_type": "stream",
     "text": [
      "rps16 intron 1 with a size 903\n",
      "rps16 intron 1 with a size 903\n",
      "ycf3 intron 1 with a size 747\n",
      "ycf3 intron 1 with a size 747\n",
      "ycf3 intron 2 with a size 708\n",
      "ycf3 intron 2 with a size 708\n",
      "rpoC1 intron 1 with a size 806\n",
      "rpoC1 intron 1 with a size 806\n",
      "atpF intron 1 with a size 718\n",
      "atpF intron 1 with a size 718\n",
      "trnL-UAA intron 1 with a size 567\n",
      "trnL-UAA intron 1 with a size 567\n",
      "trnC-ACA intron 1 with a size 566\n",
      "trnC-ACA intron 1 with a size 566\n",
      "clpP intron 2 with a size 638\n",
      "clpP intron 2 with a size 638\n",
      "clpP intron 1 with a size 861\n",
      "clpP intron 1 with a size 861\n",
      "rpl2 intron 1 with a size 668\n",
      "rpl2 intron 1 with a size 668\n",
      "ndhB intron 1 with a size 682\n",
      "ndhB intron 1 with a size 682\n",
      "rps12 intron 1 with a size 537\n",
      "rps12 intron 1 with a size 537\n",
      "trnI-GAU intron 1 with a size 932\n",
      "trnI-GAU intron 1 with a size 932\n",
      "trnA-UGC intron 1 with a size 803\n",
      "trnA-UGC intron 1 with a size 803\n",
      "ndhA intron 1 with a size 1178\n",
      "ndhA intron 1 with a size 1178\n",
      "trnA-UGC intron 1 with a size 803\n",
      "trnA-UGC intron 1 with a size 803\n",
      "trnI-GAU intron 1 with a size 932\n",
      "trnI-GAU intron 1 with a size 932\n",
      "rps12 intron 1 with a size 537\n",
      "rps12 intron 1 with a size 537\n",
      "ndhB intron 1 with a size 682\n",
      "ndhB intron 1 with a size 682\n",
      "rpl2 intron 1 with a size 668\n",
      "rpl2 intron 1 with a size 668\n"
     ]
    }
   ],
   "source": [
    "#intron genes and length\n",
    "for ft in record.features:\n",
    "    for f in ft.qualifiers:\n",
    "        if ft.type == \"intron\" and \"locus_tag\":\n",
    "            print (ft.qualifiers[\"gene\"][0] + \" intron \" + ft.qualifiers[\"number\"][0] + \" with a size \" +str(len(ft)))"
   ]
  },
  {
   "cell_type": "code",
   "execution_count": 23,
   "metadata": {},
   "outputs": [
    {
     "name": "stdout",
     "output_type": "stream",
     "text": [
      "rps12 with a size 909\n",
      "rps12 with a size 909\n",
      "rps12 with a size 909\n",
      "psbA with a size 1062\n",
      "psbA with a size 1062\n",
      "matK with a size 1518\n",
      "matK with a size 1518\n",
      "rps16 with a size 1170\n",
      "rps16 with a size 1170\n",
      "trnQ-UUG with a size 73\n",
      "trnQ-UUG with a size 73\n",
      "psbK with a size 186\n",
      "psbK with a size 186\n",
      "psbI with a size 111\n",
      "psbI with a size 111\n",
      "trnS-GGA with a size 87\n",
      "trnS-GGA with a size 87\n",
      "ycf3 with a size 1962\n",
      "ycf3 with a size 1962\n",
      "psaA with a size 2253\n",
      "psaA with a size 2253\n",
      "psaB with a size 2205\n",
      "psaB with a size 2205\n",
      "rps14 with a size 303\n",
      "rps14 with a size 303\n",
      "trnM-CAU with a size 75\n",
      "trnM-CAU with a size 75\n",
      "trnG-GCC with a size 72\n",
      "trnG-GCC with a size 72\n",
      "psbZ with a size 189\n",
      "psbZ with a size 189\n",
      "trnS-UGA with a size 90\n",
      "trnS-UGA with a size 90\n",
      "psbC with a size 1386\n",
      "psbC with a size 1386\n",
      "psbD with a size 1062\n",
      "psbD with a size 1062\n",
      "trnT-GGU with a size 74\n",
      "trnT-GGU with a size 74\n",
      "trnE-UUC with a size 73\n",
      "trnE-UUC with a size 73\n",
      "trnY-GUA with a size 86\n",
      "trnY-GUA with a size 86\n",
      "trnD-GUC with a size 74\n",
      "trnD-GUC with a size 74\n",
      "psbM with a size 105\n",
      "psbM with a size 105\n",
      "petN with a size 90\n",
      "petN with a size 90\n",
      "trnC-GCA with a size 71\n",
      "trnC-GCA with a size 71\n",
      "rpoB with a size 3213\n",
      "rpoB with a size 3213\n",
      "rpoC1 with a size 2049\n",
      "rpoC1 with a size 2049\n",
      "rpoC2 with a size 4188\n",
      "rpoC2 with a size 4188\n",
      "rps2 with a size 711\n",
      "rps2 with a size 711\n",
      "atpI with a size 687\n",
      "atpI with a size 687\n",
      "atpH with a size 246\n",
      "atpH with a size 246\n",
      "atpF with a size 555\n",
      "atpF with a size 555\n",
      "atpA with a size 1524\n",
      "atpA with a size 1524\n",
      "trnR-UCU with a size 72\n",
      "trnR-UCU with a size 72\n",
      "trnS-GCU with a size 88\n",
      "trnS-GCU with a size 88\n",
      "rps4 with a size 609\n",
      "rps4 with a size 609\n",
      "trnT-UGU with a size 75\n",
      "trnT-UGU with a size 75\n",
      "trnL-UAA with a size 653\n",
      "trnL-UAA with a size 653\n",
      "trnF-GAA with a size 74\n",
      "trnF-GAA with a size 74\n",
      "ndhJ with a size 477\n",
      "ndhJ with a size 477\n",
      "ndhK with a size 678\n",
      "ndhK with a size 678\n",
      "ndhC with a size 363\n",
      "ndhC with a size 363\n",
      "trnC-ACA with a size 661\n",
      "trnC-ACA with a size 661\n",
      "trnM-CAU with a size 74\n",
      "trnM-CAU with a size 74\n",
      "atpE with a size 402\n",
      "atpE with a size 402\n",
      "atpB with a size 1497\n",
      "atpB with a size 1497\n",
      "rbcL with a size 1428\n",
      "rbcL with a size 1428\n",
      "accD with a size 1494\n",
      "accD with a size 1494\n",
      "psaI with a size 114\n",
      "psaI with a size 114\n",
      "ycf4 with a size 555\n",
      "ycf4 with a size 555\n",
      "cemA with a size 687\n",
      "cemA with a size 687\n",
      "petA with a size 963\n",
      "petA with a size 963\n",
      "psbJ with a size 123\n",
      "psbJ with a size 123\n",
      "psbL with a size 117\n",
      "psbL with a size 117\n",
      "psbF with a size 120\n",
      "psbF with a size 120\n",
      "psbE with a size 252\n",
      "psbE with a size 252\n",
      "petL with a size 96\n",
      "petL with a size 96\n",
      "petG with a size 114\n",
      "petG with a size 114\n",
      "trnW-CCA with a size 74\n",
      "trnW-CCA with a size 74\n",
      "trnP-UGG with a size 76\n",
      "trnP-UGG with a size 76\n",
      "psaJ with a size 135\n",
      "psaJ with a size 135\n",
      "rpl33 with a size 201\n",
      "rpl33 with a size 201\n",
      "rps18 with a size 285\n",
      "rps18 with a size 285\n",
      "rpl20 with a size 354\n",
      "rpl20 with a size 354\n",
      "rps12 with a size 909\n",
      "rps12 with a size 909\n",
      "rps12 with a size 909\n",
      "clpP with a size 2087\n",
      "clpP with a size 2087\n",
      "psbB with a size 1527\n",
      "psbB with a size 1527\n",
      "psbT with a size 108\n",
      "psbT with a size 108\n",
      "psbN with a size 132\n",
      "psbN with a size 132\n",
      "psbH with a size 222\n",
      "psbH with a size 222\n",
      "petB with a size 687\n",
      "petB with a size 687\n",
      "petD with a size 501\n",
      "petD with a size 501\n",
      "rpoA with a size 999\n",
      "rpoA with a size 999\n",
      "rps11 with a size 417\n",
      "rps11 with a size 417\n",
      "rpl36 with a size 114\n",
      "rpl36 with a size 114\n",
      "rps8 with a size 405\n",
      "rps8 with a size 405\n",
      "rpl14 with a size 369\n",
      "rpl14 with a size 369\n",
      "rpl16 with a size 411\n",
      "rpl16 with a size 411\n",
      "rps3 with a size 657\n",
      "rps3 with a size 657\n",
      "rpl22 with a size 780\n",
      "rpl22 with a size 780\n",
      "trnH-GUG with a size 75\n",
      "trnH-GUG with a size 75\n",
      "rps19 with a size 279\n",
      "rps19 with a size 279\n",
      "rpl2 with a size 1493\n",
      "rpl2 with a size 1493\n",
      "rpl23 with a size 282\n",
      "rpl23 with a size 282\n",
      "trnM-CAU with a size 75\n",
      "trnM-CAU with a size 75\n",
      "ycf2 with a size 6867\n",
      "ycf2 with a size 6867\n",
      "trnL-CAA with a size 83\n",
      "trnL-CAA with a size 83\n",
      "ndhB with a size 2215\n",
      "ndhB with a size 2215\n",
      "rps7 with a size 468\n",
      "rps7 with a size 468\n",
      "trnV-GAC with a size 72\n",
      "trnV-GAC with a size 72\n",
      "rrn16 with a size 1495\n",
      "rrn16 with a size 1495\n",
      "trnI-GAU with a size 1025\n",
      "trnI-GAU with a size 1025\n",
      "trnA-UGC with a size 876\n",
      "trnA-UGC with a size 876\n",
      "rrn23 with a size 2810\n",
      "rrn23 with a size 2810\n",
      "rrn4.5 with a size 103\n",
      "rrn4.5 with a size 103\n",
      "rrn5 with a size 121\n",
      "rrn5 with a size 121\n",
      "trnR-ACG with a size 75\n",
      "trnR-ACG with a size 75\n",
      "trnN-GUU with a size 74\n",
      "trnN-GUU with a size 74\n",
      "ycf1 with a size 5694\n",
      "ycf1 with a size 5694\n",
      "rps15 with a size 273\n",
      "rps15 with a size 273\n",
      "ndhH with a size 1176\n",
      "ndhH with a size 1176\n",
      "ndhA with a size 2270\n",
      "ndhA with a size 2270\n",
      "ndhI with a size 516\n",
      "ndhI with a size 516\n",
      "ndhG with a size 48\n",
      "ndhG with a size 48\n",
      "ndhE with a size 306\n",
      "ndhE with a size 306\n",
      "psaC with a size 246\n",
      "psaC with a size 246\n",
      "ndhD with a size 1503\n",
      "ndhD with a size 1503\n",
      "ccsA with a size 966\n",
      "ccsA with a size 966\n",
      "trnL-UAG with a size 80\n",
      "trnL-UAG with a size 80\n",
      "rpl32 with a size 174\n",
      "rpl32 with a size 174\n",
      "ndhF with a size 2256\n",
      "ndhF with a size 2256\n",
      "ycf1-fragment with a size 1916\n",
      "ycf1-fragment with a size 1916\n",
      "trnN-GUU with a size 74\n",
      "trnN-GUU with a size 74\n",
      "trnR-ACG with a size 75\n",
      "trnR-ACG with a size 75\n",
      "rrn5 with a size 121\n",
      "rrn5 with a size 121\n",
      "rrn4.5 with a size 103\n",
      "rrn4.5 with a size 103\n",
      "rrn23 with a size 2810\n",
      "rrn23 with a size 2810\n",
      "trnA-UGC with a size 876\n",
      "trnA-UGC with a size 876\n",
      "trnI-GAU with a size 1025\n",
      "trnI-GAU with a size 1025\n",
      "rrn16 with a size 1495\n",
      "rrn16 with a size 1495\n",
      "trnV-GAC with a size 72\n",
      "trnV-GAC with a size 72\n",
      "rps7 with a size 468\n",
      "rps7 with a size 468\n",
      "ndhB with a size 2215\n",
      "ndhB with a size 2215\n",
      "trnL-CAA with a size 83\n",
      "trnL-CAA with a size 83\n",
      "ycf2 with a size 6867\n",
      "ycf2 with a size 6867\n",
      "trnM-CAU with a size 75\n",
      "trnM-CAU with a size 75\n",
      "rpl23 with a size 282\n",
      "rpl23 with a size 282\n",
      "rpl2 with a size 1493\n",
      "rpl2 with a size 1493\n",
      "rps19 with a size 279\n",
      "rps19 with a size 279\n",
      "trnH-GUG with a size 75\n",
      "trnH-GUG with a size 75\n"
     ]
    }
   ],
   "source": [
    "#a gene size\n",
    "for ft in record.features:\n",
    "    for f in ft.qualifiers:\n",
    "        if ft.type == \"gene\" and \"locus_tag\":\n",
    "            print (ft.qualifiers[\"gene\"][0] + \" with a size \" +str(len(ft)))"
   ]
  },
  {
   "cell_type": "markdown",
   "metadata": {},
   "source": [
    "## Using fasta files attached in annotation output "
   ]
  },
  {
   "cell_type": "code",
   "execution_count": 14,
   "metadata": {},
   "outputs": [
    {
     "name": "stdout",
     "output_type": "stream",
     "text": [
      "Found 81 CDS with a total length of 70447\n"
     ]
    }
   ],
   "source": [
    "#Estimating size for CDS from fasta files\n",
    "filename = \"Data/Sacha_CDS.fasta\"\n",
    "\n",
    "def long_seq(filename):\n",
    "    long_sequences = []\n",
    "    input_handle=open(filename,'r')\n",
    "    \n",
    "    for record in SeqIO.parse(input_handle, \"fasta\") :\n",
    "            # Add this record to our list\n",
    "            long_sequences.append(len(record))\n",
    " \n",
    "    #print (\"Found %i long sequences\" % len(long_sequences)\n",
    "    input_handle.close()\n",
    "    return(long_sequences)\n",
    "\n",
    "print (\"Found \"+str(len(long_seq(filename)))+\" CDS\"+\" with a total length of \"+ str(sum(long_seq(filename))))"
   ]
  },
  {
   "cell_type": "code",
   "execution_count": 15,
   "metadata": {},
   "outputs": [
    {
     "name": "stdout",
     "output_type": "stream",
     "text": [
      "Found 85 genes with a total length of 83423\n"
     ]
    }
   ],
   "source": [
    "#Estimating size for genes\n",
    "filename = \"Data/Sacha_gene.fasta\"\n",
    "\n",
    "def long_seq(filename):\n",
    "    long_sequences = []\n",
    "    input_handle=open(filename,'r')\n",
    "    \n",
    "    for record in SeqIO.parse(input_handle, \"fasta\") :\n",
    "            # Add this record to our list\n",
    "            long_sequences.append(len(record))\n",
    " \n",
    "    #print (\"Found %i long sequences\" % len(long_sequences)\n",
    "    input_handle.close()\n",
    "    return(long_sequences)\n",
    "\n",
    "print (\"Found \"+str(len(long_seq(filename)))+\" genes\"+\" with a total length of \"+ str(sum(long_seq(filename))))"
   ]
  },
  {
   "cell_type": "code",
   "execution_count": 16,
   "metadata": {},
   "outputs": [
    {
     "name": "stdout",
     "output_type": "stream",
     "text": [
      "Found 4 rRNAs with a total length of 4529\n"
     ]
    }
   ],
   "source": [
    "#Estimating size for rRNAs\n",
    "filename = \"Data/Sacha_rrna.fasta\"\n",
    "\n",
    "def long_seq(filename):\n",
    "    long_sequences = []\n",
    "    input_handle=open(filename,'r')\n",
    "    \n",
    "    for record in SeqIO.parse(input_handle, \"fasta\") :\n",
    "            # Add this record to our list\n",
    "            long_sequences.append(len(record))\n",
    " \n",
    "    #print (\"Found %i long sequences\" % len(long_sequences)\n",
    "    input_handle.close()\n",
    "    return(long_sequences)\n",
    "\n",
    "print (\"Found \"+str(len(long_seq(filename)))+\" rRNAs\"+\" with a total length of \"+ str(sum(long_seq(filename))))"
   ]
  },
  {
   "cell_type": "markdown",
   "metadata": {},
   "source": [
    "## Comparison with Sacha inchi China accession as a reference"
   ]
  },
  {
   "cell_type": "code",
   "execution_count": 18,
   "metadata": {},
   "outputs": [],
   "source": [
    "#loading genbank file \n",
    "record = SeqIO.read(\"Data/ChinaSI_genbank.gb\", \"genbank\")"
   ]
  },
  {
   "cell_type": "code",
   "execution_count": 19,
   "metadata": {},
   "outputs": [
    {
     "name": "stdout",
     "output_type": "stream",
     "text": [
      "%GC content in MF062253.1 is 36.22760970241076%\n",
      "Genome size: 161733 bp\n"
     ]
    }
   ],
   "source": [
    "print(\"%GC content in \"+ record.id + \" is \" + str(GC(record.seq)*100) + \"%\")\n",
    "print(\"Genome size: \" + str(len(record))+ \" bp\")"
   ]
  },
  {
   "cell_type": "code",
   "execution_count": 20,
   "metadata": {},
   "outputs": [
    {
     "name": "stdout",
     "output_type": "stream",
     "text": [
      "GenBank file: MF062253.1 has 130 features with genes in annotation, summing 106963 bp in total\n"
     ]
    }
   ],
   "source": [
    "#length for genes\n",
    "print(\"GenBank file: \"+ record.id + \" has \" + str(len(length_features(\"gene\")))+\" features with genes in annotation, summing \" +  str(sum(length_features(\"gene\"))) + \" bp in total\")"
   ]
  },
  {
   "cell_type": "code",
   "execution_count": 21,
   "metadata": {},
   "outputs": [
    {
     "name": "stdout",
     "output_type": "stream",
     "text": [
      "GenBank file: MF062253.1 has 86 features with CDSs in annotation, summing 80193 bp in total\n",
      "Percentage of Coding Sequences is: 49.583572925747994%\n"
     ]
    }
   ],
   "source": [
    "#length for CDS\n",
    "print(\"GenBank file: \"+ record.id + \" has \" + str(len(length_features(\"CDS\")))+\" features with CDSs in annotation, summing \" +  str(sum(length_features(\"CDS\"))) + \" bp in total\")\n",
    "print(\"Percentage of Coding Sequences is: \" + str((sum(length_features(\"CDS\"))/len(record))*100)+\"%\")"
   ]
  },
  {
   "cell_type": "code",
   "execution_count": 22,
   "metadata": {},
   "outputs": [
    {
     "name": "stdout",
     "output_type": "stream",
     "text": [
      "GenBank file: MF062253.1 has 36 features with tRNAs in annotation, summing 2809 bp in total\n"
     ]
    }
   ],
   "source": [
    "#length for tRNAs\n",
    "print(\"GenBank file: \"+ record.id + \" has \" + str(len(length_features(\"tRNA\")))+\" features with tRNAs in annotation, summing \" +  str(sum(length_features(\"tRNA\"))) + \" bp in total\")"
   ]
  },
  {
   "cell_type": "code",
   "execution_count": 23,
   "metadata": {},
   "outputs": [
    {
     "name": "stdout",
     "output_type": "stream",
     "text": [
      "GenBank file: MF062253.1 has 8 features with rRNAs in annotation, summing 9058 bp in total\n"
     ]
    }
   ],
   "source": [
    "#length for rRNAs\n",
    "print(\"GenBank file: \"+ record.id + \" has \" + str(len(length_features(\"rRNA\")))+\" features with rRNAs in annotation, summing \" +  str(sum(length_features(\"rRNA\"))) + \" bp in total\")"
   ]
  },
  {
   "cell_type": "code",
   "execution_count": 24,
   "metadata": {},
   "outputs": [
    {
     "name": "stdout",
     "output_type": "stream",
     "text": [
      "GenBank file: MF062253.1 has 18 features with introns in annotation, summing 13553 bp in total\n",
      "Percentage of Coding Sequences is: 8.379860634502544%\n"
     ]
    }
   ],
   "source": [
    "#length for introns\n",
    "print(\"GenBank file: \"+ record.id + \" has \" + str(len(length_features(\"intron\")))+\" features with introns in annotation, summing \" +  str(sum(length_features(\"intron\"))) + \" bp in total\")\n",
    "print(\"Percentage of Coding Sequences is: \" + str((sum(length_features(\"intron\"))/len(record))*100)+\"%\")"
   ]
  },
  {
   "cell_type": "markdown",
   "metadata": {},
   "source": [
    "## Comparison with Ricinus communis chloroplast as a reference\n",
    "### https://journals.plos.org/plosone/article?id=10.1371/journal.pone.0021743\n",
    "\n",
    "![image1.png](Images/journal.pone.0021743.g001.png)"
   ]
  },
  {
   "cell_type": "code",
   "execution_count": 25,
   "metadata": {},
   "outputs": [],
   "source": [
    "#loading genbank file \n",
    "record = SeqIO.read(\"Data/Ricinus_genbank.gb\", \"genbank\")"
   ]
  },
  {
   "cell_type": "code",
   "execution_count": 26,
   "metadata": {},
   "outputs": [
    {
     "name": "stdout",
     "output_type": "stream",
     "text": [
      "%GC content in NC_016736.1 is 35.74199716844099%\n",
      "Genome size: 163161 bp\n"
     ]
    }
   ],
   "source": [
    "print(\"%GC content in \"+ record.id + \" is \" + str(GC(record.seq)*100) + \"%\")\n",
    "print(\"Genome size: \" + str(len(record))+ \" bp\")"
   ]
  },
  {
   "cell_type": "code",
   "execution_count": 27,
   "metadata": {},
   "outputs": [
    {
     "name": "stdout",
     "output_type": "stream",
     "text": [
      "GenBank file: NC_016736.1 has 131 features with genes in annotation, summing 107486 bp in total\n"
     ]
    }
   ],
   "source": [
    "#length for genes\n",
    "print(\"GenBank file: \"+ record.id + \" has \" + str(len(length_features(\"gene\")))+\" features with genes in annotation, summing \" +  str(sum(length_features(\"gene\"))) + \" bp in total\")"
   ]
  },
  {
   "cell_type": "code",
   "execution_count": 28,
   "metadata": {},
   "outputs": [
    {
     "name": "stdout",
     "output_type": "stream",
     "text": [
      "GenBank file: NC_016736.1 has 86 features with CDSs in annotation, summing 79494 bp in total\n",
      "Percentage of Coding Sequences is: 48.721201757772995%\n"
     ]
    }
   ],
   "source": [
    "#length for CDS\n",
    "print(\"GenBank file: \"+ record.id + \" has \" + str(len(length_features(\"CDS\")))+\" features with CDSs in annotation, summing \" +  str(sum(length_features(\"CDS\"))) + \" bp in total\")\n",
    "print(\"Percentage of Coding Sequences is: \" + str((sum(length_features(\"CDS\"))/len(record))*100)+\"%\")"
   ]
  },
  {
   "cell_type": "code",
   "execution_count": 29,
   "metadata": {},
   "outputs": [
    {
     "name": "stdout",
     "output_type": "stream",
     "text": [
      "GenBank file: NC_016736.1 has 37 features with tRNAs in annotation, summing 2802 bp in total\n",
      "Percentage of tRNAs is: 1.717322154191259%\n"
     ]
    }
   ],
   "source": [
    "#length for tRNAs\n",
    "print(\"GenBank file: \"+ record.id + \" has \" + str(len(length_features(\"tRNA\")))+\" features with tRNAs in annotation, summing \" +  str(sum(length_features(\"tRNA\"))) + \" bp in total\")\n",
    "print(\"Percentage of tRNAs is: \" + str((sum(length_features(\"tRNA\"))/len(record))*100)+\"%\")"
   ]
  },
  {
   "cell_type": "code",
   "execution_count": 30,
   "metadata": {},
   "outputs": [
    {
     "name": "stdout",
     "output_type": "stream",
     "text": [
      "GenBank file: NC_016736.1 has 8 features with rRNAs in annotation, summing 9050 bp in total\n"
     ]
    }
   ],
   "source": [
    "#length for rRNAs\n",
    "print(\"GenBank file: \"+ record.id + \" has \" + str(len(length_features(\"rRNA\")))+\" features with rRNAs in annotation, summing \" +  str(sum(length_features(\"rRNA\"))) + \" bp in total\")"
   ]
  },
  {
   "cell_type": "code",
   "execution_count": 31,
   "metadata": {},
   "outputs": [
    {
     "name": "stdout",
     "output_type": "stream",
     "text": [
      "GenBank file: NC_016736.1 has 0 features with introns in annotation, summing 0 bp in total\n",
      "Percentage of Coding Sequences is: 0.0%\n"
     ]
    }
   ],
   "source": [
    "#length for introns\n",
    "print(\"GenBank file: \"+ record.id + \" has \" + str(len(length_features(\"intron\")))+\" features with introns in annotation, summing \" +  str(sum(length_features(\"intron\"))) + \" bp in total\")\n",
    "print(\"Percentage of Coding Sequences is: \" + str((sum(length_features(\"intron\"))/len(record))*100)+\"%\")"
   ]
  },
  {
   "cell_type": "code",
   "execution_count": 32,
   "metadata": {},
   "outputs": [
    {
     "name": "stdout",
     "output_type": "stream",
     "text": [
      "rps12 with a size 354\n",
      "rps12 with a size 354\n",
      "rps12 with a size 354\n",
      "rps12 with a size 354\n",
      "trnH-GUG with a size 75\n",
      "trnH-GUG with a size 75\n",
      "trnH-GUG with a size 75\n",
      "psbA with a size 1062\n",
      "psbA with a size 1062\n",
      "psbA with a size 1062\n",
      "trnK-UUU with a size 2631\n",
      "trnK-UUU with a size 2631\n",
      "trnK-UUU with a size 2631\n",
      "matK with a size 1521\n",
      "matK with a size 1521\n",
      "matK with a size 1521\n",
      "rps16 with a size 153\n",
      "rps16 with a size 153\n",
      "rps16 with a size 153\n",
      "trnQ-UUG with a size 72\n",
      "trnQ-UUG with a size 72\n",
      "trnQ-UUG with a size 72\n",
      "psbK with a size 186\n",
      "psbK with a size 186\n",
      "psbK with a size 186\n",
      "psbI with a size 111\n",
      "psbI with a size 111\n",
      "psbI with a size 111\n",
      "trnS-GCU with a size 88\n",
      "trnS-GCU with a size 88\n",
      "trnS-GCU with a size 88\n",
      "trnG-GCC with a size 763\n",
      "trnG-GCC with a size 763\n",
      "trnG-GCC with a size 763\n",
      "trnR-UCU with a size 72\n",
      "trnR-UCU with a size 72\n",
      "trnR-UCU with a size 72\n",
      "atpA with a size 1524\n",
      "atpA with a size 1524\n",
      "atpA with a size 1524\n",
      "atpF with a size 1331\n",
      "atpF with a size 1331\n",
      "atpF with a size 1331\n",
      "atpH with a size 246\n",
      "atpH with a size 246\n",
      "atpH with a size 246\n",
      "atpI with a size 687\n",
      "atpI with a size 687\n",
      "atpI with a size 687\n",
      "rps2 with a size 711\n",
      "rps2 with a size 711\n",
      "rps2 with a size 711\n",
      "rpoC2 with a size 4218\n",
      "rpoC2 with a size 4218\n",
      "rpoC2 with a size 4218\n",
      "rpoC1 with a size 2811\n",
      "rpoC1 with a size 2811\n",
      "rpoC1 with a size 2811\n",
      "rpoB with a size 3213\n",
      "rpoB with a size 3213\n",
      "rpoB with a size 3213\n",
      "trnC-GCA with a size 81\n",
      "trnC-GCA with a size 81\n",
      "trnC-GCA with a size 81\n",
      "petN with a size 90\n",
      "petN with a size 90\n",
      "petN with a size 90\n",
      "psbM with a size 105\n",
      "psbM with a size 105\n",
      "psbM with a size 105\n",
      "trnD-GUC with a size 74\n",
      "trnD-GUC with a size 74\n",
      "trnD-GUC with a size 74\n",
      "trnY-GUA with a size 84\n",
      "trnY-GUA with a size 84\n",
      "trnY-GUA with a size 84\n",
      "trnE-UUC with a size 73\n",
      "trnE-UUC with a size 73\n",
      "trnE-UUC with a size 73\n",
      "trnT-GGU with a size 72\n",
      "trnT-GGU with a size 72\n",
      "trnT-GGU with a size 72\n",
      "psbD with a size 1062\n",
      "psbD with a size 1062\n",
      "psbD with a size 1062\n",
      "psbC with a size 1422\n",
      "psbC with a size 1422\n",
      "psbC with a size 1422\n",
      "trnS-UGA with a size 88\n",
      "trnS-UGA with a size 88\n",
      "trnS-UGA with a size 88\n",
      "psbZ with a size 189\n",
      "psbZ with a size 189\n",
      "psbZ with a size 189\n",
      "trnG-UCC with a size 71\n",
      "trnG-UCC with a size 71\n",
      "trnG-UCC with a size 71\n",
      "trnfM-CAU with a size 74\n",
      "trnfM-CAU with a size 74\n",
      "trnfM-CAU with a size 74\n",
      "rps14 with a size 303\n",
      "rps14 with a size 303\n",
      "rps14 with a size 303\n",
      "psaB with a size 2205\n",
      "psaB with a size 2205\n",
      "psaB with a size 2205\n",
      "psaA with a size 2253\n",
      "psaA with a size 2253\n",
      "psaA with a size 2253\n",
      "ycf3 with a size 1902\n",
      "ycf3 with a size 1902\n",
      "ycf3 with a size 1902\n",
      "trnS-GGA with a size 87\n",
      "trnS-GGA with a size 87\n",
      "trnS-GGA with a size 87\n",
      "rps4 with a size 606\n",
      "rps4 with a size 606\n",
      "rps4 with a size 606\n",
      "trnT-UGU with a size 73\n",
      "trnT-UGU with a size 73\n",
      "trnT-UGU with a size 73\n",
      "trnL-UAA with a size 614\n",
      "trnL-UAA with a size 614\n",
      "trnL-UAA with a size 614\n",
      "trnF-GAA with a size 73\n",
      "trnF-GAA with a size 73\n",
      "trnF-GAA with a size 73\n",
      "ndhJ with a size 477\n",
      "ndhJ with a size 477\n",
      "ndhJ with a size 477\n",
      "ndhK with a size 180\n",
      "ndhK with a size 180\n",
      "ndhK with a size 180\n",
      "ndhC with a size 363\n",
      "ndhC with a size 363\n",
      "ndhC with a size 363\n",
      "trnV-UAC with a size 663\n",
      "trnV-UAC with a size 663\n",
      "trnV-UAC with a size 663\n",
      "trnM-CAU with a size 72\n",
      "trnM-CAU with a size 72\n",
      "trnM-CAU with a size 72\n",
      "atpE with a size 402\n",
      "atpE with a size 402\n",
      "atpE with a size 402\n",
      "atpB with a size 1497\n",
      "atpB with a size 1497\n",
      "atpB with a size 1497\n",
      "rbcL with a size 1428\n",
      "rbcL with a size 1428\n",
      "rbcL with a size 1428\n",
      "accD with a size 1500\n",
      "accD with a size 1500\n",
      "accD with a size 1500\n",
      "psaI with a size 114\n",
      "psaI with a size 114\n",
      "psaI with a size 114\n",
      "ycf4 with a size 555\n",
      "ycf4 with a size 555\n",
      "ycf4 with a size 555\n",
      "cemA with a size 687\n",
      "cemA with a size 687\n",
      "cemA with a size 687\n",
      "petA with a size 963\n",
      "petA with a size 963\n",
      "petA with a size 963\n",
      "psbJ with a size 123\n",
      "psbJ with a size 123\n",
      "psbJ with a size 123\n",
      "psbL with a size 117\n",
      "psbL with a size 117\n",
      "psbL with a size 117\n",
      "psbF with a size 120\n",
      "psbF with a size 120\n",
      "psbF with a size 120\n",
      "psbE with a size 252\n",
      "psbE with a size 252\n",
      "psbE with a size 252\n",
      "petL with a size 96\n",
      "petL with a size 96\n",
      "petL with a size 96\n",
      "petG with a size 114\n",
      "petG with a size 114\n",
      "petG with a size 114\n",
      "trnW-CCA with a size 73\n",
      "trnW-CCA with a size 73\n",
      "trnW-CCA with a size 73\n",
      "trnP-UGG with a size 74\n",
      "trnP-UGG with a size 74\n",
      "trnP-UGG with a size 74\n",
      "psaJ with a size 135\n",
      "psaJ with a size 135\n",
      "psaJ with a size 135\n",
      "rpl33 with a size 201\n",
      "rpl33 with a size 201\n",
      "rpl33 with a size 201\n",
      "rps18 with a size 285\n",
      "rps18 with a size 285\n",
      "rps18 with a size 285\n",
      "rpl20 with a size 354\n",
      "rpl20 with a size 354\n",
      "rpl20 with a size 354\n",
      "rps12 with a size 354\n",
      "rps12 with a size 354\n",
      "rps12 with a size 354\n",
      "rps12 with a size 354\n",
      "clpP with a size 2135\n",
      "clpP with a size 2135\n",
      "clpP with a size 2135\n",
      "psbB with a size 1527\n",
      "psbB with a size 1527\n",
      "psbB with a size 1527\n",
      "psbT with a size 108\n",
      "psbT with a size 108\n",
      "psbT with a size 108\n",
      "psbN with a size 132\n",
      "psbN with a size 132\n",
      "psbN with a size 132\n",
      "psbH with a size 222\n",
      "psbH with a size 222\n",
      "psbH with a size 222\n",
      "petB with a size 687\n",
      "petB with a size 687\n",
      "petB with a size 687\n",
      "petD with a size 525\n",
      "petD with a size 525\n",
      "petD with a size 525\n",
      "rpoA with a size 999\n",
      "rpoA with a size 999\n",
      "rpoA with a size 999\n",
      "rps11 with a size 417\n",
      "rps11 with a size 417\n",
      "rps11 with a size 417\n",
      "rpl36 with a size 114\n",
      "rpl36 with a size 114\n",
      "rpl36 with a size 114\n",
      "rps8 with a size 405\n",
      "rps8 with a size 405\n",
      "rps8 with a size 405\n",
      "rpl14 with a size 369\n",
      "rpl14 with a size 369\n",
      "rpl14 with a size 369\n",
      "rpl16 with a size 360\n",
      "rpl16 with a size 360\n",
      "rpl16 with a size 360\n",
      "rps3 with a size 657\n",
      "rps3 with a size 657\n",
      "rps3 with a size 657\n",
      "rpl22 with a size 483\n",
      "rpl22 with a size 483\n",
      "rpl22 with a size 483\n",
      "rps19 with a size 279\n",
      "rps19 with a size 279\n",
      "rps19 with a size 279\n",
      "rpl2 with a size 1502\n",
      "rpl2 with a size 1502\n",
      "rpl2 with a size 1502\n",
      "rpl23 with a size 282\n",
      "rpl23 with a size 282\n",
      "rpl23 with a size 282\n",
      "trnI-CAU with a size 74\n",
      "trnI-CAU with a size 74\n",
      "trnI-CAU with a size 74\n",
      "ycf2 with a size 6861\n",
      "ycf2 with a size 6861\n",
      "ycf2 with a size 6861\n",
      "trnL-CAA with a size 81\n",
      "trnL-CAA with a size 81\n",
      "trnL-CAA with a size 81\n",
      "ndhB with a size 2215\n",
      "ndhB with a size 2215\n",
      "ndhB with a size 2215\n",
      "rps7 with a size 468\n",
      "rps7 with a size 468\n",
      "rps7 with a size 468\n",
      "trnV-GAC with a size 72\n",
      "trnV-GAC with a size 72\n",
      "trnV-GAC with a size 72\n",
      "rrn16 with a size 1491\n",
      "rrn16 with a size 1491\n",
      "rrn16 with a size 1491\n",
      "trnI-GAU with a size 1025\n",
      "trnI-GAU with a size 1025\n",
      "trnI-GAU with a size 1025\n",
      "trnA-UGC with a size 866\n",
      "trnA-UGC with a size 866\n",
      "trnA-UGC with a size 866\n",
      "rrn23 with a size 2810\n",
      "rrn23 with a size 2810\n",
      "rrn23 with a size 2810\n",
      "rrn4.5 with a size 103\n",
      "rrn4.5 with a size 103\n",
      "rrn4.5 with a size 103\n",
      "rrn5 with a size 121\n",
      "rrn5 with a size 121\n",
      "rrn5 with a size 121\n",
      "trnR-ACG with a size 74\n",
      "trnR-ACG with a size 74\n",
      "trnR-ACG with a size 74\n",
      "trnN-GUU with a size 72\n",
      "trnN-GUU with a size 72\n",
      "trnN-GUU with a size 72\n",
      "ycf1 with a size 1197\n",
      "ycf1 with a size 1197\n",
      "ycf1 with a size 1197\n",
      "ndhF with a size 2250\n",
      "ndhF with a size 2250\n",
      "ndhF with a size 2250\n",
      "rpl32 with a size 174\n",
      "rpl32 with a size 174\n",
      "rpl32 with a size 174\n",
      "trnL-UAG with a size 80\n",
      "trnL-UAG with a size 80\n",
      "trnL-UAG with a size 80\n",
      "ccsA with a size 981\n",
      "ccsA with a size 981\n",
      "ccsA with a size 981\n",
      "ndhD with a size 1521\n",
      "ndhD with a size 1521\n",
      "ndhD with a size 1521\n",
      "psaC with a size 246\n",
      "psaC with a size 246\n",
      "psaC with a size 246\n",
      "ndhE with a size 306\n",
      "ndhE with a size 306\n",
      "ndhE with a size 306\n",
      "ndhG with a size 534\n",
      "ndhG with a size 534\n",
      "ndhG with a size 534\n",
      "ndhI with a size 513\n",
      "ndhI with a size 513\n",
      "ndhI with a size 513\n",
      "ndhA with a size 2256\n",
      "ndhA with a size 2256\n",
      "ndhA with a size 2256\n",
      "ndhH with a size 1176\n",
      "ndhH with a size 1176\n",
      "ndhH with a size 1176\n",
      "rps15 with a size 273\n",
      "rps15 with a size 273\n",
      "rps15 with a size 273\n",
      "ycf1 with a size 5418\n",
      "ycf1 with a size 5418\n",
      "ycf1 with a size 5418\n",
      "trnN-GUU with a size 72\n",
      "trnN-GUU with a size 72\n",
      "trnN-GUU with a size 72\n",
      "trnR-ACG with a size 74\n",
      "trnR-ACG with a size 74\n",
      "trnR-ACG with a size 74\n",
      "rrn5 with a size 121\n",
      "rrn5 with a size 121\n",
      "rrn5 with a size 121\n",
      "rrn4.5 with a size 103\n",
      "rrn4.5 with a size 103\n",
      "rrn4.5 with a size 103\n",
      "rrn23 with a size 2810\n",
      "rrn23 with a size 2810\n",
      "rrn23 with a size 2810\n",
      "trnA-UGC with a size 866\n",
      "trnA-UGC with a size 866\n",
      "trnA-UGC with a size 866\n",
      "trnI-GAU with a size 1025\n",
      "trnI-GAU with a size 1025\n",
      "trnI-GAU with a size 1025\n",
      "rrn16 with a size 1491\n",
      "rrn16 with a size 1491\n",
      "rrn16 with a size 1491\n",
      "trnV-GAC with a size 72\n",
      "trnV-GAC with a size 72\n",
      "trnV-GAC with a size 72\n",
      "rps7 with a size 468\n",
      "rps7 with a size 468\n",
      "rps7 with a size 468\n",
      "ndhB with a size 2215\n",
      "ndhB with a size 2215\n",
      "ndhB with a size 2215\n",
      "trnL-CAA with a size 81\n",
      "trnL-CAA with a size 81\n",
      "trnL-CAA with a size 81\n",
      "ycf2 with a size 6861\n",
      "ycf2 with a size 6861\n",
      "ycf2 with a size 6861\n",
      "trnI-CAU with a size 74\n",
      "trnI-CAU with a size 74\n",
      "trnI-CAU with a size 74\n",
      "rpl23 with a size 282\n",
      "rpl23 with a size 282\n",
      "rpl23 with a size 282\n",
      "rpl2 with a size 1502\n",
      "rpl2 with a size 1502\n",
      "rpl2 with a size 1502\n",
      "rps19 with a size 279\n",
      "rps19 with a size 279\n",
      "rps19 with a size 279\n"
     ]
    }
   ],
   "source": [
    "#a gene size\n",
    "for ft in record.features:\n",
    "    for f in ft.qualifiers:\n",
    "        if ft.type == \"gene\" and \"locus_tag\":\n",
    "            print (ft.qualifiers[\"gene\"][0] + \" with a size \" +str(len(ft)))"
   ]
  },
  {
   "cell_type": "markdown",
   "metadata": {},
   "source": [
    "## Analysis for Passiflora edulis chloroplast as a control of funtions"
   ]
  },
  {
   "cell_type": "code",
   "execution_count": 35,
   "metadata": {},
   "outputs": [],
   "source": [
    "#loading genbank file \n",
    "record = SeqIO.read(\"Data/Passi_genbank.gb\", \"genbank\")"
   ]
  },
  {
   "cell_type": "code",
   "execution_count": 36,
   "metadata": {},
   "outputs": [
    {
     "name": "stdout",
     "output_type": "stream",
     "text": [
      "GenBank file: NC_034285.1 has 76 features with CDSs in annotation, summing 56604 bp in total\n",
      "Percentage of Coding Sequences is: 37.38557256647689%\n"
     ]
    }
   ],
   "source": [
    "#length for CDS\n",
    "print(\"GenBank file: \"+ record.id + \" has \" + str(len(length_features(\"CDS\")))+\" features with CDSs in annotation, summing \" +  str(sum(length_features(\"CDS\"))) + \" bp in total\")\n",
    "print(\"Percentage of Coding Sequences is: \" + str((sum(length_features(\"CDS\"))/len(record))*100)+\"%\")"
   ]
  },
  {
   "cell_type": "code",
   "execution_count": 37,
   "metadata": {},
   "outputs": [
    {
     "name": "stdout",
     "output_type": "stream",
     "text": [
      "GenBank file: NC_034285.1 has 36 features with tRNAs in annotation, summing 2729 bp in total\n",
      "Percentage of tRNAs is: 1.8024384766785992%\n"
     ]
    }
   ],
   "source": [
    "#length for tRNAs\n",
    "print(\"GenBank file: \"+ record.id + \" has \" + str(len(length_features(\"tRNA\")))+\" features with tRNAs in annotation, summing \" +  str(sum(length_features(\"tRNA\"))) + \" bp in total\")\n",
    "print(\"Percentage of tRNAs is: \" + str((sum(length_features(\"tRNA\"))/len(record))*100)+\"%\")"
   ]
  },
  {
   "cell_type": "markdown",
   "metadata": {},
   "source": [
    "### GC content"
   ]
  },
  {
   "cell_type": "code",
   "execution_count": 38,
   "metadata": {},
   "outputs": [
    {
     "name": "stdout",
     "output_type": "stream",
     "text": [
      "%GC content in NC_034285.1 is 37.007780405003764%\n"
     ]
    }
   ],
   "source": [
    "print(\"%GC content in \"+ record.id + \" is \" + str(GC(record.seq)*100) + \"%\")"
   ]
  },
  {
   "cell_type": "code",
   "execution_count": null,
   "metadata": {},
   "outputs": [],
   "source": []
  }
 ],
 "metadata": {
  "kernelspec": {
   "display_name": "Python 3",
   "language": "python",
   "name": "python3"
  },
  "language_info": {
   "codemirror_mode": {
    "name": "ipython",
    "version": 3
   },
   "file_extension": ".py",
   "mimetype": "text/x-python",
   "name": "python",
   "nbconvert_exporter": "python",
   "pygments_lexer": "ipython3",
   "version": "3.7.3"
  }
 },
 "nbformat": 4,
 "nbformat_minor": 2
}
